{
 "cells": [
  {
   "cell_type": "code",
   "execution_count": 32,
   "metadata": {},
   "outputs": [],
   "source": [
    "import pandas as pd\n",
    "import numpy as np"
   ]
  },
  {
   "cell_type": "code",
   "execution_count": 33,
   "metadata": {},
   "outputs": [],
   "source": [
    "sub = [\"sub\" + str(i) for i in range(100)]\n",
    "sex = [\"F\", \"M\"] * 50\n",
    "age = np.random.randint(18, 90, 100)\n",
    "r = np.random.randint(0, 10, 100)"
   ]
  },
  {
   "cell_type": "code",
   "execution_count": 34,
   "metadata": {},
   "outputs": [],
   "source": [
    "df = pd.DataFrame({\"subject\":sub, \"sex\":sex, \"age\":age, \"r\":r})\n",
    "df[\"sex_dummy\"] = df.sex\n",
    "df = df.replace({\"sex_dummy\":{\"F\":0, \"M\":1}})\n",
    "df.loc[df.sex==\"F\", [\"r\"]] = df.loc[df.sex==\"F\", [\"r\"]]+10\n",
    "\n",
    "df[\"score\"] = df.age + df.sex_dummy + df.r\n",
    "df = df[['subject', 'sex', 'age', 'score']]\n",
    "df.to_csv(\"data_full.txt\", index=False)"
   ]
  },
  {
   "cell_type": "code",
   "execution_count": 35,
   "metadata": {},
   "outputs": [],
   "source": [
    "df.loc[:10, \"age\"] = np.nan\n",
    "df.loc[85:, \"age\"] = np.nan\n",
    "df.loc[[1,40,55,88], \"score\"] = np.nan"
   ]
  },
  {
   "cell_type": "code",
   "execution_count": null,
   "metadata": {},
   "outputs": [],
   "source": []
  },
  {
   "cell_type": "code",
   "execution_count": null,
   "metadata": {},
   "outputs": [],
   "source": []
  }
 ],
 "metadata": {
  "anaconda-cloud": {},
  "kernelspec": {
   "display_name": "Python [default]",
   "language": "python",
   "name": "python3"
  },
  "language_info": {
   "codemirror_mode": {
    "name": "ipython",
    "version": 3
   },
   "file_extension": ".py",
   "mimetype": "text/x-python",
   "name": "python",
   "nbconvert_exporter": "python",
   "pygments_lexer": "ipython3",
   "version": "3.5.2"
  }
 },
 "nbformat": 4,
 "nbformat_minor": 2
}
