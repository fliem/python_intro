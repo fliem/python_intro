{
 "cells": [
  {
   "cell_type": "markdown",
   "metadata": {},
   "source": [
    "# Paths and files\n",
    "\n",
    "1. Building paths\n",
    "1. Getting information about files\n",
    "1. Checking if something exists\n",
    "1. In and out\n",
    "1. Finding files\n",
    "1. Current working directory, absolute, and relative paths"
   ]
  },
  {
   "cell_type": "markdown",
   "metadata": {
    "slideshow": {
     "slide_type": "subslide"
    }
   },
   "source": [
    "File and folder paths can be represented as string"
   ]
  },
  {
   "cell_type": "code",
   "execution_count": 1,
   "metadata": {
    "execution": {
     "iopub.execute_input": "2021-03-06T15:35:20.284290Z",
     "iopub.status.busy": "2021-03-06T15:35:20.283464Z",
     "iopub.status.idle": "2021-03-06T15:35:20.285975Z",
     "shell.execute_reply": "2021-03-06T15:35:20.286819Z"
    }
   },
   "outputs": [],
   "source": [
    "filename1 = \"data/great_study/s01/record.txt\""
   ]
  },
  {
   "cell_type": "markdown",
   "metadata": {
    "slideshow": {
     "slide_type": "fragment"
    }
   },
   "source": [
    "However, python's [pathlib](https://docs.python.org/3/library/pathlib.html) module offers handy file- and folder-related functionality"
   ]
  },
  {
   "cell_type": "code",
   "execution_count": 2,
   "metadata": {
    "execution": {
     "iopub.execute_input": "2021-03-06T15:35:20.291978Z",
     "iopub.status.busy": "2021-03-06T15:35:20.291204Z",
     "iopub.status.idle": "2021-03-06T15:35:20.293091Z",
     "shell.execute_reply": "2021-03-06T15:35:20.293783Z"
    }
   },
   "outputs": [],
   "source": [
    "from pathlib import Path\n",
    "filename2 = Path(\"data/great_study/s01/record.txt\")"
   ]
  },
  {
   "cell_type": "code",
   "execution_count": 3,
   "metadata": {
    "execution": {
     "iopub.execute_input": "2021-03-06T15:35:20.304657Z",
     "iopub.status.busy": "2021-03-06T15:35:20.303932Z",
     "iopub.status.idle": "2021-03-06T15:35:20.306354Z",
     "shell.execute_reply": "2021-03-06T15:35:20.306963Z"
    }
   },
   "outputs": [
    {
     "data": {
      "text/plain": [
       "str"
      ]
     },
     "execution_count": 1,
     "metadata": {},
     "output_type": "execute_result"
    }
   ],
   "source": [
    "type(filename1)"
   ]
  },
  {
   "cell_type": "code",
   "execution_count": 4,
   "metadata": {
    "execution": {
     "iopub.execute_input": "2021-03-06T15:35:20.310549Z",
     "iopub.status.busy": "2021-03-06T15:35:20.309914Z",
     "iopub.status.idle": "2021-03-06T15:35:20.312021Z",
     "shell.execute_reply": "2021-03-06T15:35:20.312550Z"
    }
   },
   "outputs": [
    {
     "data": {
      "text/plain": [
       "pathlib.PosixPath"
      ]
     },
     "execution_count": 1,
     "metadata": {},
     "output_type": "execute_result"
    }
   ],
   "source": [
    "type(filename2)"
   ]
  },
  {
   "cell_type": "markdown",
   "metadata": {
    "slideshow": {
     "slide_type": "slide"
    }
   },
   "source": [
    "# Building paths"
   ]
  },
  {
   "cell_type": "code",
   "execution_count": 5,
   "metadata": {
    "execution": {
     "iopub.execute_input": "2021-03-06T15:35:20.316179Z",
     "iopub.status.busy": "2021-03-06T15:35:20.315611Z",
     "iopub.status.idle": "2021-03-06T15:35:20.317601Z",
     "shell.execute_reply": "2021-03-06T15:35:20.318130Z"
    }
   },
   "outputs": [
    {
     "name": "stdout",
     "output_type": "stream",
     "text": [
      "data/great_study/s01/record.txt\n"
     ]
    }
   ],
   "source": [
    "filename = Path(\"data/great_study/s01/record.txt\")\n",
    "print(filename)"
   ]
  },
  {
   "cell_type": "code",
   "execution_count": 6,
   "metadata": {
    "execution": {
     "iopub.execute_input": "2021-03-06T15:35:20.321957Z",
     "iopub.status.busy": "2021-03-06T15:35:20.321376Z",
     "iopub.status.idle": "2021-03-06T15:35:20.323108Z",
     "shell.execute_reply": "2021-03-06T15:35:20.323652Z"
    }
   },
   "outputs": [
    {
     "name": "stdout",
     "output_type": "stream",
     "text": [
      "data/great_study/s01/record.txt\n"
     ]
    }
   ],
   "source": [
    "root_path = Path(\"data/great_study\") \n",
    "subject = \"s01\"\n",
    "filename = root_path / subject / \"record.txt\"\n",
    "print(filename)"
   ]
  },
  {
   "cell_type": "markdown",
   "metadata": {
    "slideshow": {
     "slide_type": "slide"
    }
   },
   "source": [
    "# Getting information about files"
   ]
  },
  {
   "cell_type": "code",
   "execution_count": 7,
   "metadata": {
    "execution": {
     "iopub.execute_input": "2021-03-06T15:35:20.326715Z",
     "iopub.status.busy": "2021-03-06T15:35:20.326239Z",
     "iopub.status.idle": "2021-03-06T15:35:20.328011Z",
     "shell.execute_reply": "2021-03-06T15:35:20.328362Z"
    }
   },
   "outputs": [
    {
     "name": "stdout",
     "output_type": "stream",
     "text": [
      "data/great_study/s01/record.txt\n"
     ]
    }
   ],
   "source": [
    "filename = Path(\"data/great_study/s01/record.txt\")\n",
    "print(filename)"
   ]
  },
  {
   "cell_type": "code",
   "execution_count": 8,
   "metadata": {
    "execution": {
     "iopub.execute_input": "2021-03-06T15:35:20.331140Z",
     "iopub.status.busy": "2021-03-06T15:35:20.330601Z",
     "iopub.status.idle": "2021-03-06T15:35:20.332507Z",
     "shell.execute_reply": "2021-03-06T15:35:20.332982Z"
    }
   },
   "outputs": [
    {
     "name": "stdout",
     "output_type": "stream",
     "text": [
      "record.txt\n"
     ]
    }
   ],
   "source": [
    "print(filename.name)"
   ]
  },
  {
   "cell_type": "code",
   "execution_count": 9,
   "metadata": {
    "execution": {
     "iopub.execute_input": "2021-03-06T15:35:20.335719Z",
     "iopub.status.busy": "2021-03-06T15:35:20.335287Z",
     "iopub.status.idle": "2021-03-06T15:35:20.336722Z",
     "shell.execute_reply": "2021-03-06T15:35:20.337149Z"
    }
   },
   "outputs": [
    {
     "name": "stdout",
     "output_type": "stream",
     "text": [
      ".txt\n"
     ]
    }
   ],
   "source": [
    "print(filename.suffix)"
   ]
  },
  {
   "cell_type": "code",
   "execution_count": 10,
   "metadata": {
    "execution": {
     "iopub.execute_input": "2021-03-06T15:35:20.339578Z",
     "iopub.status.busy": "2021-03-06T15:35:20.339145Z",
     "iopub.status.idle": "2021-03-06T15:35:20.340609Z",
     "shell.execute_reply": "2021-03-06T15:35:20.341056Z"
    },
    "slideshow": {
     "slide_type": "fragment"
    }
   },
   "outputs": [
    {
     "name": "stdout",
     "output_type": "stream",
     "text": [
      "data/great_study/s01\n"
     ]
    }
   ],
   "source": [
    "print(filename.parent)"
   ]
  },
  {
   "cell_type": "markdown",
   "metadata": {
    "slideshow": {
     "slide_type": "slide"
    }
   },
   "source": [
    "# Checking if something exists"
   ]
  },
  {
   "cell_type": "code",
   "execution_count": 11,
   "metadata": {
    "execution": {
     "iopub.execute_input": "2021-03-06T15:35:20.343633Z",
     "iopub.status.busy": "2021-03-06T15:35:20.343230Z",
     "iopub.status.idle": "2021-03-06T15:35:20.344527Z",
     "shell.execute_reply": "2021-03-06T15:35:20.344936Z"
    }
   },
   "outputs": [],
   "source": [
    "root_path = Path(\"data/great_study\") \n",
    "subject = \"s01\"\n",
    "filename = root_path / subject / \"record.txt\""
   ]
  },
  {
   "cell_type": "code",
   "execution_count": 12,
   "metadata": {
    "execution": {
     "iopub.execute_input": "2021-03-06T15:35:20.347274Z",
     "iopub.status.busy": "2021-03-06T15:35:20.346841Z",
     "iopub.status.idle": "2021-03-06T15:35:20.348694Z",
     "shell.execute_reply": "2021-03-06T15:35:20.348971Z"
    }
   },
   "outputs": [
    {
     "data": {
      "text/plain": [
       "True"
      ]
     },
     "execution_count": 1,
     "metadata": {},
     "output_type": "execute_result"
    }
   ],
   "source": [
    "root_path.is_dir()"
   ]
  },
  {
   "cell_type": "code",
   "execution_count": 13,
   "metadata": {
    "execution": {
     "iopub.execute_input": "2021-03-06T15:35:20.351329Z",
     "iopub.status.busy": "2021-03-06T15:35:20.350909Z",
     "iopub.status.idle": "2021-03-06T15:35:20.352562Z",
     "shell.execute_reply": "2021-03-06T15:35:20.352932Z"
    },
    "slideshow": {
     "slide_type": "fragment"
    }
   },
   "outputs": [
    {
     "data": {
      "text/plain": [
       "True"
      ]
     },
     "execution_count": 1,
     "metadata": {},
     "output_type": "execute_result"
    }
   ],
   "source": [
    "filename.is_file()"
   ]
  },
  {
   "cell_type": "code",
   "execution_count": 14,
   "metadata": {
    "execution": {
     "iopub.execute_input": "2021-03-06T15:35:20.355055Z",
     "iopub.status.busy": "2021-03-06T15:35:20.354685Z",
     "iopub.status.idle": "2021-03-06T15:35:20.357756Z",
     "shell.execute_reply": "2021-03-06T15:35:20.358144Z"
    },
    "slideshow": {
     "slide_type": "subslide"
    }
   },
   "outputs": [
    {
     "data": {
      "text/plain": [
       "False"
      ]
     },
     "execution_count": 1,
     "metadata": {},
     "output_type": "execute_result"
    }
   ],
   "source": [
    "filename = root_path / subject / \"something.txt\"\n",
    "filename.is_file()"
   ]
  },
  {
   "cell_type": "markdown",
   "metadata": {
    "slideshow": {
     "slide_type": "slide"
    }
   },
   "source": [
    "# In and out\n",
    "## Reading files"
   ]
  },
  {
   "cell_type": "code",
   "execution_count": 15,
   "metadata": {
    "execution": {
     "iopub.execute_input": "2021-03-06T15:35:20.360322Z",
     "iopub.status.busy": "2021-03-06T15:35:20.359939Z",
     "iopub.status.idle": "2021-03-06T15:35:20.361695Z",
     "shell.execute_reply": "2021-03-06T15:35:20.362065Z"
    }
   },
   "outputs": [
    {
     "name": "stdout",
     "output_type": "stream",
     "text": [
      "hi\n",
      "\n"
     ]
    }
   ],
   "source": [
    "filename = Path(\"data/great_study/s01/record.txt\")\n",
    "text = filename.read_text() \n",
    "print(text)"
   ]
  },
  {
   "cell_type": "markdown",
   "metadata": {
    "slideshow": {
     "slide_type": "subslide"
    }
   },
   "source": [
    "## Writing files\n",
    "Converseley,\n",
    "```\n",
    "text = \"new text\"\n",
    "filename.write_text(text) \n",
    "```"
   ]
  },
  {
   "cell_type": "markdown",
   "metadata": {
    "slideshow": {
     "slide_type": "slide"
    }
   },
   "source": [
    "# Finding files"
   ]
  },
  {
   "cell_type": "code",
   "execution_count": 16,
   "metadata": {
    "execution": {
     "iopub.execute_input": "2021-03-06T15:35:20.364231Z",
     "iopub.status.busy": "2021-03-06T15:35:20.363847Z",
     "iopub.status.idle": "2021-03-06T15:35:20.365173Z",
     "shell.execute_reply": "2021-03-06T15:35:20.365536Z"
    }
   },
   "outputs": [
    {
     "name": "stdout",
     "output_type": "stream",
     "text": [
      "<generator object Path.glob at 0x7fe2a002e890>\n"
     ]
    }
   ],
   "source": [
    "root_path = Path(\"data/great_study\") \n",
    "files = root_path.glob(\"*/record.txt\")\n",
    "print(files)"
   ]
  },
  {
   "cell_type": "code",
   "execution_count": 17,
   "metadata": {
    "execution": {
     "iopub.execute_input": "2021-03-06T15:35:20.367444Z",
     "iopub.status.busy": "2021-03-06T15:35:20.367094Z",
     "iopub.status.idle": "2021-03-06T15:35:20.368739Z",
     "shell.execute_reply": "2021-03-06T15:35:20.369085Z"
    },
    "slideshow": {
     "slide_type": "fragment"
    }
   },
   "outputs": [
    {
     "data": {
      "text/plain": [
       "generator"
      ]
     },
     "execution_count": 1,
     "metadata": {},
     "output_type": "execute_result"
    }
   ],
   "source": [
    "type(files)"
   ]
  },
  {
   "cell_type": "markdown",
   "metadata": {
    "slideshow": {
     "slide_type": "fragment"
    }
   },
   "source": [
    "Generators are similar to lists, have advantages, but lists are easier to play with.\n",
    "For now, we just convert the generator into a list."
   ]
  },
  {
   "cell_type": "code",
   "execution_count": 18,
   "metadata": {
    "execution": {
     "iopub.execute_input": "2021-03-06T15:35:20.371106Z",
     "iopub.status.busy": "2021-03-06T15:35:20.370773Z",
     "iopub.status.idle": "2021-03-06T15:35:20.372367Z",
     "shell.execute_reply": "2021-03-06T15:35:20.372702Z"
    },
    "slideshow": {
     "slide_type": "subslide"
    }
   },
   "outputs": [
    {
     "name": "stdout",
     "output_type": "stream",
     "text": [
      "[PosixPath('data/great_study/s02/record.txt'), PosixPath('data/great_study/s01/record.txt')]\n"
     ]
    }
   ],
   "source": [
    "root_path = Path(\"data/great_study\") \n",
    "files = list(root_path.glob(\"*/record.txt\"))\n",
    "print(files)"
   ]
  },
  {
   "cell_type": "markdown",
   "metadata": {
    "slideshow": {
     "slide_type": "subslide"
    }
   },
   "source": [
    "Alternatively, we can use `sorted` to sort the files alphabetically and turn the generator object into a list"
   ]
  },
  {
   "cell_type": "code",
   "execution_count": 19,
   "metadata": {
    "execution": {
     "iopub.execute_input": "2021-03-06T15:35:20.374611Z",
     "iopub.status.busy": "2021-03-06T15:35:20.374283Z",
     "iopub.status.idle": "2021-03-06T15:35:20.375784Z",
     "shell.execute_reply": "2021-03-06T15:35:20.376125Z"
    }
   },
   "outputs": [
    {
     "name": "stdout",
     "output_type": "stream",
     "text": [
      "[PosixPath('data/great_study/s01/record.txt'), PosixPath('data/great_study/s02/record.txt')]\n"
     ]
    }
   ],
   "source": [
    "root_path = Path(\"data/great_study\") \n",
    "files = sorted(root_path.glob(\"*/record.txt\"))\n",
    "print(files)"
   ]
  },
  {
   "cell_type": "code",
   "execution_count": 20,
   "metadata": {
    "execution": {
     "iopub.execute_input": "2021-03-06T15:35:20.378051Z",
     "iopub.status.busy": "2021-03-06T15:35:20.377728Z",
     "iopub.status.idle": "2021-03-06T15:35:20.379416Z",
     "shell.execute_reply": "2021-03-06T15:35:20.379755Z"
    },
    "slideshow": {
     "slide_type": "fragment"
    }
   },
   "outputs": [
    {
     "name": "stdout",
     "output_type": "stream",
     "text": [
      "data/great_study/s01/record.txt: hi\n",
      "\n",
      "data/great_study/s02/record.txt: hello\n"
     ]
    }
   ],
   "source": [
    "for file in files:\n",
    "    text = file.read_text()\n",
    "    print(f\"{file}: {text}\")"
   ]
  },
  {
   "cell_type": "markdown",
   "metadata": {
    "slideshow": {
     "slide_type": "slide"
    }
   },
   "source": [
    "# Current working directory, absolute, and relative paths"
   ]
  },
  {
   "cell_type": "markdown",
   "metadata": {
    "slideshow": {
     "slide_type": "subslide"
    }
   },
   "source": [
    "## Current working directory\n",
    "The directory in which you are currently working in."
   ]
  },
  {
   "cell_type": "code",
   "execution_count": 21,
   "metadata": {
    "execution": {
     "iopub.execute_input": "2021-03-06T15:35:20.381605Z",
     "iopub.status.busy": "2021-03-06T15:35:20.381289Z",
     "iopub.status.idle": "2021-03-06T15:35:20.382534Z",
     "shell.execute_reply": "2021-03-06T15:35:20.382855Z"
    },
    "slideshow": {
     "slide_type": "fragment"
    }
   },
   "outputs": [],
   "source": [
    "import os\n",
    "wd = os.getcwd()"
   ]
  },
  {
   "cell_type": "code",
   "execution_count": 22,
   "metadata": {
    "execution": {
     "iopub.execute_input": "2021-03-06T15:35:20.384646Z",
     "iopub.status.busy": "2021-03-06T15:35:20.384334Z",
     "iopub.status.idle": "2021-03-06T15:35:20.385842Z",
     "shell.execute_reply": "2021-03-06T15:35:20.385498Z"
    },
    "slideshow": {
     "slide_type": "subslide"
    }
   },
   "outputs": [],
   "source": [
    "from pathlib import Path\n",
    "wd = Path(\".\")"
   ]
  },
  {
   "cell_type": "markdown",
   "metadata": {
    "slideshow": {
     "slide_type": "subslide"
    }
   },
   "source": [
    "## Absolute paths\n",
    "* Point to an existing or non-existing file or folder.\n",
    "* Start with the root path (`/`, windows:`\\`, `C:\\`)\n",
    "* If you are using absolute paths, your file/folder will be found, no matter which directory your python script is executed from. "
   ]
  },
  {
   "cell_type": "markdown",
   "metadata": {
    "slideshow": {
     "slide_type": "subslide"
    }
   },
   "source": [
    "## Relative paths\n",
    "* Point to an existing or non-existing file or folder.\n",
    "* Start with a file/folder name, not root path\n",
    "* Take the current working directory as a starting point\n",
    "* e.g., `data/s01/file.txt` will expand to `{cwd}/data/s01/file.txt`\n"
   ]
  }
 ],
 "metadata": {
  "kernelspec": {
   "display_name": "Python 3",
   "language": "python",
   "name": "python3"
  },
  "language_info": {
   "codemirror_mode": {
    "name": "ipython",
    "version": 3
   },
   "file_extension": ".py",
   "mimetype": "text/x-python",
   "name": "python",
   "nbconvert_exporter": "python",
   "pygments_lexer": "ipython3",
   "version": "3.8.5"
  }
 },
 "nbformat": 4,
 "nbformat_minor": 4
}
