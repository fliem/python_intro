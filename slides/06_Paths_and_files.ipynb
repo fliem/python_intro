{
 "cells": [
  {
   "cell_type": "markdown",
   "metadata": {},
   "source": [
    "# Paths and files\n",
    "\n",
    "1. Building paths\n",
    "1. Getting information about files\n",
    "1. Checking if something exists\n",
    "1. In and out\n",
    "1. Finding files\n",
    "1. Current working directory, absolute, and relative paths"
   ]
  },
  {
   "cell_type": "markdown",
   "metadata": {
    "slideshow": {
     "slide_type": "subslide"
    }
   },
   "source": [
    "File and folder paths can be represented as string"
   ]
  },
  {
   "cell_type": "code",
   "execution_count": 1,
   "metadata": {
    "execution": {
     "iopub.execute_input": "2021-03-23T16:13:58.950543Z",
     "iopub.status.busy": "2021-03-23T16:13:58.949697Z",
     "iopub.status.idle": "2021-03-23T16:13:58.951289Z",
     "shell.execute_reply": "2021-03-23T16:13:58.952124Z"
    }
   },
   "outputs": [],
   "source": [
    "filename1 = \"data/great_study/s01/record.txt\""
   ]
  },
  {
   "cell_type": "markdown",
   "metadata": {
    "slideshow": {
     "slide_type": "fragment"
    }
   },
   "source": [
    "However, python's [pathlib](https://docs.python.org/3/library/pathlib.html) module offers handy file- and folder-related functionality"
   ]
  },
  {
   "cell_type": "code",
   "execution_count": 2,
   "metadata": {
    "execution": {
     "iopub.execute_input": "2021-03-23T16:13:58.958736Z",
     "iopub.status.busy": "2021-03-23T16:13:58.957839Z",
     "iopub.status.idle": "2021-03-23T16:13:58.959726Z",
     "shell.execute_reply": "2021-03-23T16:13:58.960637Z"
    }
   },
   "outputs": [],
   "source": [
    "from pathlib import Path\n",
    "filename2 = Path(\"data/great_study/s01/record.txt\")"
   ]
  },
  {
   "cell_type": "code",
   "execution_count": 3,
   "metadata": {
    "execution": {
     "iopub.execute_input": "2021-03-23T16:13:58.973627Z",
     "iopub.status.busy": "2021-03-23T16:13:58.972975Z",
     "iopub.status.idle": "2021-03-23T16:13:58.975492Z",
     "shell.execute_reply": "2021-03-23T16:13:58.976106Z"
    }
   },
   "outputs": [
    {
     "data": {
      "text/plain": [
       "str"
      ]
     },
     "execution_count": 1,
     "metadata": {},
     "output_type": "execute_result"
    }
   ],
   "source": [
    "type(filename1)"
   ]
  },
  {
   "cell_type": "code",
   "execution_count": 4,
   "metadata": {
    "execution": {
     "iopub.execute_input": "2021-03-23T16:13:58.979878Z",
     "iopub.status.busy": "2021-03-23T16:13:58.979218Z",
     "iopub.status.idle": "2021-03-23T16:13:58.981514Z",
     "shell.execute_reply": "2021-03-23T16:13:58.982129Z"
    }
   },
   "outputs": [
    {
     "data": {
      "text/plain": [
       "pathlib.PosixPath"
      ]
     },
     "execution_count": 1,
     "metadata": {},
     "output_type": "execute_result"
    }
   ],
   "source": [
    "type(filename2)"
   ]
  },
  {
   "cell_type": "markdown",
   "metadata": {
    "slideshow": {
     "slide_type": "slide"
    }
   },
   "source": [
    "# Building paths"
   ]
  },
  {
   "cell_type": "code",
   "execution_count": 5,
   "metadata": {
    "execution": {
     "iopub.execute_input": "2021-03-23T16:13:58.985761Z",
     "iopub.status.busy": "2021-03-23T16:13:58.985233Z",
     "iopub.status.idle": "2021-03-23T16:13:58.987037Z",
     "shell.execute_reply": "2021-03-23T16:13:58.987559Z"
    }
   },
   "outputs": [
    {
     "name": "stdout",
     "output_type": "stream",
     "text": [
      "data/great_study/s01/record.txt\n"
     ]
    }
   ],
   "source": [
    "filename = Path(\"data/great_study/s01/record.txt\")\n",
    "print(filename)"
   ]
  },
  {
   "cell_type": "code",
   "execution_count": 6,
   "metadata": {
    "execution": {
     "iopub.execute_input": "2021-03-23T16:13:58.991127Z",
     "iopub.status.busy": "2021-03-23T16:13:58.990577Z",
     "iopub.status.idle": "2021-03-23T16:13:58.992437Z",
     "shell.execute_reply": "2021-03-23T16:13:58.992970Z"
    }
   },
   "outputs": [
    {
     "name": "stdout",
     "output_type": "stream",
     "text": [
      "data/great_study/s01/record.txt\n"
     ]
    }
   ],
   "source": [
    "root_path = Path(\"data/great_study\") \n",
    "subject = \"s01\"\n",
    "filename = root_path / subject / \"record.txt\"\n",
    "print(filename)"
   ]
  },
  {
   "cell_type": "markdown",
   "metadata": {
    "slideshow": {
     "slide_type": "slide"
    }
   },
   "source": [
    "# Getting information about files"
   ]
  },
  {
   "cell_type": "code",
   "execution_count": 7,
   "metadata": {
    "execution": {
     "iopub.execute_input": "2021-03-23T16:13:58.995900Z",
     "iopub.status.busy": "2021-03-23T16:13:58.995396Z",
     "iopub.status.idle": "2021-03-23T16:13:58.997164Z",
     "shell.execute_reply": "2021-03-23T16:13:58.997598Z"
    }
   },
   "outputs": [
    {
     "name": "stdout",
     "output_type": "stream",
     "text": [
      "data/great_study/s01/record.txt\n"
     ]
    }
   ],
   "source": [
    "filename = Path(\"data/great_study/s01/record.txt\")\n",
    "print(filename)"
   ]
  },
  {
   "cell_type": "code",
   "execution_count": 8,
   "metadata": {
    "execution": {
     "iopub.execute_input": "2021-03-23T16:13:59.000079Z",
     "iopub.status.busy": "2021-03-23T16:13:58.999652Z",
     "iopub.status.idle": "2021-03-23T16:13:59.001123Z",
     "shell.execute_reply": "2021-03-23T16:13:59.001559Z"
    }
   },
   "outputs": [
    {
     "name": "stdout",
     "output_type": "stream",
     "text": [
      "record.txt\n"
     ]
    }
   ],
   "source": [
    "print(filename.name)"
   ]
  },
  {
   "cell_type": "code",
   "execution_count": 9,
   "metadata": {
    "execution": {
     "iopub.execute_input": "2021-03-23T16:13:59.004024Z",
     "iopub.status.busy": "2021-03-23T16:13:59.003604Z",
     "iopub.status.idle": "2021-03-23T16:13:59.005067Z",
     "shell.execute_reply": "2021-03-23T16:13:59.005459Z"
    }
   },
   "outputs": [
    {
     "name": "stdout",
     "output_type": "stream",
     "text": [
      ".txt\n"
     ]
    }
   ],
   "source": [
    "print(filename.suffix)"
   ]
  },
  {
   "cell_type": "code",
   "execution_count": 10,
   "metadata": {
    "execution": {
     "iopub.execute_input": "2021-03-23T16:13:59.007708Z",
     "iopub.status.busy": "2021-03-23T16:13:59.007326Z",
     "iopub.status.idle": "2021-03-23T16:13:59.008637Z",
     "shell.execute_reply": "2021-03-23T16:13:59.009027Z"
    },
    "slideshow": {
     "slide_type": "fragment"
    }
   },
   "outputs": [
    {
     "name": "stdout",
     "output_type": "stream",
     "text": [
      "data/great_study/s01\n"
     ]
    }
   ],
   "source": [
    "print(filename.parent)"
   ]
  },
  {
   "cell_type": "markdown",
   "metadata": {
    "slideshow": {
     "slide_type": "slide"
    }
   },
   "source": [
    "# Checking if something exists"
   ]
  },
  {
   "cell_type": "code",
   "execution_count": 11,
   "metadata": {
    "execution": {
     "iopub.execute_input": "2021-03-23T16:13:59.011570Z",
     "iopub.status.busy": "2021-03-23T16:13:59.011178Z",
     "iopub.status.idle": "2021-03-23T16:13:59.012556Z",
     "shell.execute_reply": "2021-03-23T16:13:59.012832Z"
    }
   },
   "outputs": [],
   "source": [
    "root_path = Path(\"data/great_study\") \n",
    "subject = \"s01\"\n",
    "filename = root_path / subject / \"record.txt\""
   ]
  },
  {
   "cell_type": "code",
   "execution_count": 12,
   "metadata": {
    "execution": {
     "iopub.execute_input": "2021-03-23T16:13:59.015086Z",
     "iopub.status.busy": "2021-03-23T16:13:59.014712Z",
     "iopub.status.idle": "2021-03-23T16:13:59.016350Z",
     "shell.execute_reply": "2021-03-23T16:13:59.016731Z"
    }
   },
   "outputs": [
    {
     "data": {
      "text/plain": [
       "True"
      ]
     },
     "execution_count": 1,
     "metadata": {},
     "output_type": "execute_result"
    }
   ],
   "source": [
    "root_path.is_dir()"
   ]
  },
  {
   "cell_type": "code",
   "execution_count": 13,
   "metadata": {
    "execution": {
     "iopub.execute_input": "2021-03-23T16:13:59.018970Z",
     "iopub.status.busy": "2021-03-23T16:13:59.018571Z",
     "iopub.status.idle": "2021-03-23T16:13:59.019897Z",
     "shell.execute_reply": "2021-03-23T16:13:59.020252Z"
    },
    "slideshow": {
     "slide_type": "fragment"
    }
   },
   "outputs": [
    {
     "data": {
      "text/plain": [
       "True"
      ]
     },
     "execution_count": 1,
     "metadata": {},
     "output_type": "execute_result"
    }
   ],
   "source": [
    "filename.is_file()"
   ]
  },
  {
   "cell_type": "code",
   "execution_count": 14,
   "metadata": {
    "execution": {
     "iopub.execute_input": "2021-03-23T16:13:59.022348Z",
     "iopub.status.busy": "2021-03-23T16:13:59.022017Z",
     "iopub.status.idle": "2021-03-23T16:13:59.023404Z",
     "shell.execute_reply": "2021-03-23T16:13:59.023739Z"
    },
    "slideshow": {
     "slide_type": "subslide"
    }
   },
   "outputs": [
    {
     "data": {
      "text/plain": [
       "False"
      ]
     },
     "execution_count": 1,
     "metadata": {},
     "output_type": "execute_result"
    }
   ],
   "source": [
    "filename = root_path / subject / \"something.txt\"\n",
    "filename.is_file()"
   ]
  },
  {
   "cell_type": "markdown",
   "metadata": {
    "slideshow": {
     "slide_type": "slide"
    }
   },
   "source": [
    "# In and out\n",
    "## Reading files"
   ]
  },
  {
   "cell_type": "code",
   "execution_count": 15,
   "metadata": {
    "execution": {
     "iopub.execute_input": "2021-03-23T16:13:59.025757Z",
     "iopub.status.busy": "2021-03-23T16:13:59.025436Z",
     "iopub.status.idle": "2021-03-23T16:13:59.030359Z",
     "shell.execute_reply": "2021-03-23T16:13:59.030704Z"
    }
   },
   "outputs": [
    {
     "name": "stdout",
     "output_type": "stream",
     "text": [
      "hi\n",
      "\n"
     ]
    }
   ],
   "source": [
    "filename = Path(\"data/great_study/s01/record.txt\")\n",
    "text = filename.read_text() \n",
    "print(text)"
   ]
  },
  {
   "cell_type": "markdown",
   "metadata": {
    "slideshow": {
     "slide_type": "subslide"
    }
   },
   "source": [
    "## Writing files\n",
    "Converseley,\n",
    "```\n",
    "text = \"new text\"\n",
    "filename.write_text(text) \n",
    "```"
   ]
  },
  {
   "cell_type": "markdown",
   "metadata": {
    "slideshow": {
     "slide_type": "slide"
    }
   },
   "source": [
    "# Finding files"
   ]
  },
  {
   "cell_type": "code",
   "execution_count": 16,
   "metadata": {
    "execution": {
     "iopub.execute_input": "2021-03-23T16:13:59.032775Z",
     "iopub.status.busy": "2021-03-23T16:13:59.032418Z",
     "iopub.status.idle": "2021-03-23T16:13:59.033771Z",
     "shell.execute_reply": "2021-03-23T16:13:59.034097Z"
    }
   },
   "outputs": [
    {
     "name": "stdout",
     "output_type": "stream",
     "text": [
      "<generator object Path.glob at 0x7fd28802e890>\n"
     ]
    }
   ],
   "source": [
    "root_path = Path(\"data/great_study\") \n",
    "files = root_path.glob(\"*/record.txt\")\n",
    "print(files)"
   ]
  },
  {
   "cell_type": "code",
   "execution_count": 17,
   "metadata": {
    "execution": {
     "iopub.execute_input": "2021-03-23T16:13:59.036110Z",
     "iopub.status.busy": "2021-03-23T16:13:59.035766Z",
     "iopub.status.idle": "2021-03-23T16:13:59.037276Z",
     "shell.execute_reply": "2021-03-23T16:13:59.037600Z"
    },
    "slideshow": {
     "slide_type": "fragment"
    }
   },
   "outputs": [
    {
     "data": {
      "text/plain": [
       "generator"
      ]
     },
     "execution_count": 1,
     "metadata": {},
     "output_type": "execute_result"
    }
   ],
   "source": [
    "type(files)"
   ]
  },
  {
   "cell_type": "markdown",
   "metadata": {
    "slideshow": {
     "slide_type": "fragment"
    }
   },
   "source": [
    "Generators are similar to lists, have advantages, but lists are easier to play with.\n",
    "For now, we just convert the generator into a list."
   ]
  },
  {
   "cell_type": "code",
   "execution_count": 18,
   "metadata": {
    "execution": {
     "iopub.execute_input": "2021-03-23T16:13:59.039708Z",
     "iopub.status.busy": "2021-03-23T16:13:59.039348Z",
     "iopub.status.idle": "2021-03-23T16:13:59.041394Z",
     "shell.execute_reply": "2021-03-23T16:13:59.041718Z"
    },
    "slideshow": {
     "slide_type": "subslide"
    }
   },
   "outputs": [
    {
     "name": "stdout",
     "output_type": "stream",
     "text": [
      "[PosixPath('data/great_study/s02/record.txt'), PosixPath('data/great_study/s01/record.txt')]\n"
     ]
    }
   ],
   "source": [
    "root_path = Path(\"data/great_study\") \n",
    "files = list(root_path.glob(\"*/record.txt\"))\n",
    "print(files)"
   ]
  },
  {
   "cell_type": "markdown",
   "metadata": {
    "slideshow": {
     "slide_type": "subslide"
    }
   },
   "source": [
    "Alternatively, we can use `sorted` to sort the files alphabetically and turn the generator object into a list"
   ]
  },
  {
   "cell_type": "code",
   "execution_count": 19,
   "metadata": {
    "execution": {
     "iopub.execute_input": "2021-03-23T16:13:59.043658Z",
     "iopub.status.busy": "2021-03-23T16:13:59.043324Z",
     "iopub.status.idle": "2021-03-23T16:13:59.045128Z",
     "shell.execute_reply": "2021-03-23T16:13:59.045447Z"
    }
   },
   "outputs": [
    {
     "name": "stdout",
     "output_type": "stream",
     "text": [
      "[PosixPath('data/great_study/s01/record.txt'), PosixPath('data/great_study/s02/record.txt')]\n"
     ]
    }
   ],
   "source": [
    "root_path = Path(\"data/great_study\") \n",
    "files = sorted(root_path.glob(\"*/record.txt\"))\n",
    "print(files)"
   ]
  },
  {
   "cell_type": "code",
   "execution_count": 20,
   "metadata": {
    "execution": {
     "iopub.execute_input": "2021-03-23T16:13:59.047381Z",
     "iopub.status.busy": "2021-03-23T16:13:59.047078Z",
     "iopub.status.idle": "2021-03-23T16:13:59.050460Z",
     "shell.execute_reply": "2021-03-23T16:13:59.050781Z"
    },
    "slideshow": {
     "slide_type": "fragment"
    }
   },
   "outputs": [
    {
     "name": "stdout",
     "output_type": "stream",
     "text": [
      "data/great_study/s01/record.txt: hi\n",
      "\n",
      "data/great_study/s02/record.txt: hello\n"
     ]
    }
   ],
   "source": [
    "for file in files:\n",
    "    text = file.read_text()\n",
    "    print(f\"{file}: {text}\")"
   ]
  },
  {
   "cell_type": "markdown",
   "metadata": {
    "slideshow": {
     "slide_type": "slide"
    }
   },
   "source": [
    "# Current working directory, absolute, and relative paths"
   ]
  },
  {
   "cell_type": "markdown",
   "metadata": {
    "slideshow": {
     "slide_type": "subslide"
    }
   },
   "source": [
    "## Current working directory\n",
    "The directory in which you are currently working in."
   ]
  },
  {
   "cell_type": "code",
   "execution_count": 21,
   "metadata": {
    "execution": {
     "iopub.execute_input": "2021-03-23T16:13:59.052637Z",
     "iopub.status.busy": "2021-03-23T16:13:59.052316Z",
     "iopub.status.idle": "2021-03-23T16:13:59.053970Z",
     "shell.execute_reply": "2021-03-23T16:13:59.054289Z"
    },
    "slideshow": {
     "slide_type": "fragment"
    }
   },
   "outputs": [],
   "source": [
    "import os\n",
    "wd = os.getcwd()"
   ]
  },
  {
   "cell_type": "code",
   "execution_count": 22,
   "metadata": {
    "execution": {
     "iopub.execute_input": "2021-03-23T16:13:59.056069Z",
     "iopub.status.busy": "2021-03-23T16:13:59.055752Z",
     "iopub.status.idle": "2021-03-23T16:13:59.056950Z",
     "shell.execute_reply": "2021-03-23T16:13:59.057288Z"
    },
    "slideshow": {
     "slide_type": "subslide"
    }
   },
   "outputs": [],
   "source": [
    "from pathlib import Path\n",
    "wd = Path(\".\")"
   ]
  },
  {
   "cell_type": "markdown",
   "metadata": {
    "slideshow": {
     "slide_type": "subslide"
    }
   },
   "source": [
    "## Absolute paths\n",
    "* Point to an existing or non-existing file or folder.\n",
    "* Start with the root path (`/`, windows:`\\`, `C:\\`)\n",
    "* If you are using absolute paths, your file/folder will be found, no matter which directory your python script is executed from. "
   ]
  },
  {
   "cell_type": "markdown",
   "metadata": {
    "slideshow": {
     "slide_type": "subslide"
    }
   },
   "source": [
    "## Relative paths\n",
    "* Point to an existing or non-existing file or folder.\n",
    "* Start with a file/folder name, not root path\n",
    "* Take the current working directory as a starting point\n",
    "* e.g., `data/s01/file.txt` will expand to `{cwd}/data/s01/file.txt`\n"
   ]
  }
 ],
 "metadata": {
  "kernelspec": {
   "display_name": "Python 3",
   "language": "python",
   "name": "python3"
  },
  "language_info": {
   "codemirror_mode": {
    "name": "ipython",
    "version": 3
   },
   "file_extension": ".py",
   "mimetype": "text/x-python",
   "name": "python",
   "nbconvert_exporter": "python",
   "pygments_lexer": "ipython3",
   "version": "3.8.5"
  }
 },
 "nbformat": 4,
 "nbformat_minor": 4
}
