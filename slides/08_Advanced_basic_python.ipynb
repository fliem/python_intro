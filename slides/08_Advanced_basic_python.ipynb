{
 "cells": [
  {
   "cell_type": "markdown",
   "metadata": {
    "slideshow": {
     "slide_type": "slide"
    }
   },
   "source": [
    "# Advanced basic Python syntax\n",
    "\n",
    "1. Variable types\n",
    "    * Dictionaries\n",
    "    * Variable gotcha: copy reference vs copy variable\n",
    "    * Sets\n",
    "    * Tuples\n",
    "    * Indexing\n",
    "1. List and dict comprehension\n",
    "1. Functions\n",
    "1. Everything is an object\n",
    "1. Python and package version"
   ]
  },
  {
   "cell_type": "markdown",
   "metadata": {
    "slideshow": {
     "slide_type": "slide"
    }
   },
   "source": [
    "# Variable types"
   ]
  },
  {
   "cell_type": "markdown",
   "metadata": {
    "slideshow": {
     "slide_type": "subslide"
    }
   },
   "source": [
    "## Dictionaries\n",
    "\n",
    "Variable type that holds key-value pairs"
   ]
  },
  {
   "cell_type": "markdown",
   "metadata": {
    "slideshow": {
     "slide_type": "subslide"
    }
   },
   "source": [
    "### Definition"
   ]
  },
  {
   "cell_type": "code",
   "execution_count": 1,
   "metadata": {
    "execution": {
     "iopub.execute_input": "2021-03-06T15:35:22.127121Z",
     "iopub.status.busy": "2021-03-06T15:35:22.126279Z",
     "iopub.status.idle": "2021-03-06T15:35:22.128688Z",
     "shell.execute_reply": "2021-03-06T15:35:22.129517Z"
    }
   },
   "outputs": [],
   "source": [
    "empty_dict = {}\n",
    "empty_dict = dict()"
   ]
  },
  {
   "cell_type": "code",
   "execution_count": 2,
   "metadata": {
    "execution": {
     "iopub.execute_input": "2021-03-06T15:35:22.134498Z",
     "iopub.status.busy": "2021-03-06T15:35:22.133714Z",
     "iopub.status.idle": "2021-03-06T15:35:22.136449Z",
     "shell.execute_reply": "2021-03-06T15:35:22.137138Z"
    }
   },
   "outputs": [
    {
     "name": "stdout",
     "output_type": "stream",
     "text": [
      "{'name': 'John', 'last_name': 'Smith'}\n"
     ]
    }
   ],
   "source": [
    "d = {\"name\": \"John\", \"last_name\": \"Smith\"}\n",
    "print(d)"
   ]
  },
  {
   "cell_type": "markdown",
   "metadata": {
    "slideshow": {
     "slide_type": "subslide"
    }
   },
   "source": [
    "### Reading entry"
   ]
  },
  {
   "cell_type": "code",
   "execution_count": 3,
   "metadata": {
    "execution": {
     "iopub.execute_input": "2021-03-06T15:35:22.141359Z",
     "iopub.status.busy": "2021-03-06T15:35:22.140683Z",
     "iopub.status.idle": "2021-03-06T15:35:22.143075Z",
     "shell.execute_reply": "2021-03-06T15:35:22.143776Z"
    }
   },
   "outputs": [
    {
     "name": "stdout",
     "output_type": "stream",
     "text": [
      "Person's name: John\n"
     ]
    }
   ],
   "source": [
    "n = d[\"name\"]\n",
    "print(f\"Person's name: {n}\")"
   ]
  },
  {
   "cell_type": "markdown",
   "metadata": {
    "slideshow": {
     "slide_type": "subslide"
    }
   },
   "source": [
    "### Adding entry"
   ]
  },
  {
   "cell_type": "code",
   "execution_count": 4,
   "metadata": {
    "execution": {
     "iopub.execute_input": "2021-03-06T15:35:22.147457Z",
     "iopub.status.busy": "2021-03-06T15:35:22.146837Z",
     "iopub.status.idle": "2021-03-06T15:35:22.148856Z",
     "shell.execute_reply": "2021-03-06T15:35:22.149451Z"
    }
   },
   "outputs": [
    {
     "name": "stdout",
     "output_type": "stream",
     "text": [
      "{'name': 'John', 'last_name': 'Smith'}\n"
     ]
    }
   ],
   "source": [
    "d = {\"name\": \"John\", \"last_name\": \"Smith\"}\n",
    "print(d)"
   ]
  },
  {
   "cell_type": "code",
   "execution_count": 5,
   "metadata": {
    "execution": {
     "iopub.execute_input": "2021-03-06T15:35:22.153052Z",
     "iopub.status.busy": "2021-03-06T15:35:22.152377Z",
     "iopub.status.idle": "2021-03-06T15:35:22.154333Z",
     "shell.execute_reply": "2021-03-06T15:35:22.154860Z"
    },
    "slideshow": {
     "slide_type": "fragment"
    }
   },
   "outputs": [
    {
     "name": "stdout",
     "output_type": "stream",
     "text": [
      "{'name': 'John', 'last_name': 'Smith', 'nice': True}\n"
     ]
    }
   ],
   "source": [
    "d[\"nice\"] = True\n",
    "print(d)"
   ]
  },
  {
   "cell_type": "markdown",
   "metadata": {
    "slideshow": {
     "slide_type": "subslide"
    }
   },
   "source": [
    "## `for` loops on dicts"
   ]
  },
  {
   "cell_type": "code",
   "execution_count": 6,
   "metadata": {
    "execution": {
     "iopub.execute_input": "2021-03-06T15:35:22.158627Z",
     "iopub.status.busy": "2021-03-06T15:35:22.158098Z",
     "iopub.status.idle": "2021-03-06T15:35:22.159871Z",
     "shell.execute_reply": "2021-03-06T15:35:22.160399Z"
    }
   },
   "outputs": [
    {
     "name": "stdout",
     "output_type": "stream",
     "text": [
      "I have 10 bananas\n",
      "I have 3 apples\n"
     ]
    }
   ],
   "source": [
    "fruits = {\"bananas\": 10, \"apples\": 3}\n",
    "for fruit in fruits:\n",
    "    print(f\"I have {fruits[fruit]} {fruit}\")"
   ]
  },
  {
   "cell_type": "code",
   "execution_count": 7,
   "metadata": {
    "execution": {
     "iopub.execute_input": "2021-03-06T15:35:22.163741Z",
     "iopub.status.busy": "2021-03-06T15:35:22.163212Z",
     "iopub.status.idle": "2021-03-06T15:35:22.164912Z",
     "shell.execute_reply": "2021-03-06T15:35:22.165401Z"
    },
    "slideshow": {
     "slide_type": "fragment"
    }
   },
   "outputs": [
    {
     "name": "stdout",
     "output_type": "stream",
     "text": [
      "I have 10 bananas\n",
      "I have 3 apples\n"
     ]
    }
   ],
   "source": [
    "# dict.items() returns keys, values\n",
    "for fruit,stock in fruits.items(): \n",
    "    print(f\"I have {stock} {fruit}\")"
   ]
  },
  {
   "cell_type": "markdown",
   "metadata": {
    "slideshow": {
     "slide_type": "subslide"
    }
   },
   "source": [
    "### Variable gotcha: copy reference vs copy variable"
   ]
  },
  {
   "cell_type": "code",
   "execution_count": 8,
   "metadata": {
    "execution": {
     "iopub.execute_input": "2021-03-06T15:35:22.168369Z",
     "iopub.status.busy": "2021-03-06T15:35:22.167853Z",
     "iopub.status.idle": "2021-03-06T15:35:22.169494Z",
     "shell.execute_reply": "2021-03-06T15:35:22.169971Z"
    }
   },
   "outputs": [
    {
     "name": "stdout",
     "output_type": "stream",
     "text": [
      "['a', 'b', 'c']\n"
     ]
    }
   ],
   "source": [
    "l1 = [\"a\", \"b\"]\n",
    "l2 = l1  # only copies the reference to the list, not the list\n",
    "l2.append(\"c\")\n",
    "print(l1)"
   ]
  },
  {
   "cell_type": "code",
   "execution_count": 9,
   "metadata": {
    "execution": {
     "iopub.execute_input": "2021-03-06T15:35:22.172630Z",
     "iopub.status.busy": "2021-03-06T15:35:22.172172Z",
     "iopub.status.idle": "2021-03-06T15:35:22.173739Z",
     "shell.execute_reply": "2021-03-06T15:35:22.174184Z"
    }
   },
   "outputs": [
    {
     "name": "stdout",
     "output_type": "stream",
     "text": [
      "['a', 'b', 'c']\n"
     ]
    }
   ],
   "source": [
    "print(l2)"
   ]
  },
  {
   "cell_type": "code",
   "execution_count": 10,
   "metadata": {
    "execution": {
     "iopub.execute_input": "2021-03-06T15:35:22.176842Z",
     "iopub.status.busy": "2021-03-06T15:35:22.176378Z",
     "iopub.status.idle": "2021-03-06T15:35:22.177926Z",
     "shell.execute_reply": "2021-03-06T15:35:22.178357Z"
    },
    "slideshow": {
     "slide_type": "subslide"
    }
   },
   "outputs": [
    {
     "name": "stdout",
     "output_type": "stream",
     "text": [
      "['a', 'b']\n"
     ]
    }
   ],
   "source": [
    "l1 = [\"a\", \"b\"]\n",
    "l2 = l1.copy()  # creates a copy of the list\n",
    "l2.append(\"c\")\n",
    "print(l1)"
   ]
  },
  {
   "cell_type": "code",
   "execution_count": 11,
   "metadata": {
    "execution": {
     "iopub.execute_input": "2021-03-06T15:35:22.180787Z",
     "iopub.status.busy": "2021-03-06T15:35:22.180367Z",
     "iopub.status.idle": "2021-03-06T15:35:22.181808Z",
     "shell.execute_reply": "2021-03-06T15:35:22.182213Z"
    }
   },
   "outputs": [
    {
     "name": "stdout",
     "output_type": "stream",
     "text": [
      "['a', 'b', 'c']\n"
     ]
    }
   ],
   "source": [
    "print(l2)"
   ]
  },
  {
   "cell_type": "markdown",
   "metadata": {
    "slideshow": {
     "slide_type": "subslide"
    }
   },
   "source": [
    "### The same is true for `dicts`"
   ]
  },
  {
   "cell_type": "code",
   "execution_count": 12,
   "metadata": {
    "execution": {
     "iopub.execute_input": "2021-03-06T15:35:22.184797Z",
     "iopub.status.busy": "2021-03-06T15:35:22.184396Z",
     "iopub.status.idle": "2021-03-06T15:35:22.185791Z",
     "shell.execute_reply": "2021-03-06T15:35:22.186197Z"
    }
   },
   "outputs": [
    {
     "name": "stdout",
     "output_type": "stream",
     "text": [
      "{'a': 1, 'i': 22}\n"
     ]
    }
   ],
   "source": [
    "d1 = {\"a\": 1}\n",
    "d2 = d1\n",
    "d2[\"i\"] = 22\n",
    "print(d1)"
   ]
  },
  {
   "cell_type": "code",
   "execution_count": 13,
   "metadata": {
    "execution": {
     "iopub.execute_input": "2021-03-06T15:35:22.188505Z",
     "iopub.status.busy": "2021-03-06T15:35:22.188127Z",
     "iopub.status.idle": "2021-03-06T15:35:22.189400Z",
     "shell.execute_reply": "2021-03-06T15:35:22.189768Z"
    }
   },
   "outputs": [
    {
     "name": "stdout",
     "output_type": "stream",
     "text": [
      "{'a': 1, 'i': 22}\n"
     ]
    }
   ],
   "source": [
    "print(d2)"
   ]
  },
  {
   "cell_type": "markdown",
   "metadata": {
    "slideshow": {
     "slide_type": "subslide"
    }
   },
   "source": [
    "### ... But not for numbers or strings"
   ]
  },
  {
   "cell_type": "code",
   "execution_count": 14,
   "metadata": {
    "execution": {
     "iopub.execute_input": "2021-03-06T15:35:22.192147Z",
     "iopub.status.busy": "2021-03-06T15:35:22.191788Z",
     "iopub.status.idle": "2021-03-06T15:35:22.193057Z",
     "shell.execute_reply": "2021-03-06T15:35:22.193424Z"
    }
   },
   "outputs": [
    {
     "name": "stdout",
     "output_type": "stream",
     "text": [
      "2\n"
     ]
    }
   ],
   "source": [
    "i1 = 2\n",
    "i2 = i1\n",
    "i2 = 5\n",
    "print(i1)"
   ]
  },
  {
   "cell_type": "code",
   "execution_count": 15,
   "metadata": {
    "execution": {
     "iopub.execute_input": "2021-03-06T15:35:22.195634Z",
     "iopub.status.busy": "2021-03-06T15:35:22.195213Z",
     "iopub.status.idle": "2021-03-06T15:35:22.196551Z",
     "shell.execute_reply": "2021-03-06T15:35:22.196947Z"
    }
   },
   "outputs": [
    {
     "name": "stdout",
     "output_type": "stream",
     "text": [
      "5\n"
     ]
    }
   ],
   "source": [
    "print(i2)"
   ]
  },
  {
   "cell_type": "code",
   "execution_count": 16,
   "metadata": {
    "execution": {
     "iopub.execute_input": "2021-03-06T15:35:22.199055Z",
     "iopub.status.busy": "2021-03-06T15:35:22.198663Z",
     "iopub.status.idle": "2021-03-06T15:35:22.199922Z",
     "shell.execute_reply": "2021-03-06T15:35:22.200278Z"
    }
   },
   "outputs": [
    {
     "name": "stdout",
     "output_type": "stream",
     "text": [
      "a\n"
     ]
    }
   ],
   "source": [
    "s1 = \"a\"\n",
    "s2 = s1\n",
    "s2 = \"b\"\n",
    "print(s1)"
   ]
  },
  {
   "cell_type": "code",
   "execution_count": 17,
   "metadata": {
    "execution": {
     "iopub.execute_input": "2021-03-06T15:35:22.202225Z",
     "iopub.status.busy": "2021-03-06T15:35:22.201877Z",
     "iopub.status.idle": "2021-03-06T15:35:22.203203Z",
     "shell.execute_reply": "2021-03-06T15:35:22.203561Z"
    }
   },
   "outputs": [
    {
     "name": "stdout",
     "output_type": "stream",
     "text": [
      "b\n"
     ]
    }
   ],
   "source": [
    "print(s2)"
   ]
  },
  {
   "cell_type": "markdown",
   "metadata": {
    "slideshow": {
     "slide_type": "subslide"
    }
   },
   "source": [
    "## Sets: Unordered collections of unique elements"
   ]
  },
  {
   "cell_type": "code",
   "execution_count": 18,
   "metadata": {
    "execution": {
     "iopub.execute_input": "2021-03-06T15:35:22.208658Z",
     "iopub.status.busy": "2021-03-06T15:35:22.208327Z",
     "iopub.status.idle": "2021-03-06T15:35:22.209780Z",
     "shell.execute_reply": "2021-03-06T15:35:22.210123Z"
    }
   },
   "outputs": [
    {
     "data": {
      "text/plain": [
       "{'a', 'b'}"
      ]
     },
     "execution_count": 1,
     "metadata": {},
     "output_type": "execute_result"
    }
   ],
   "source": [
    "s = set([\"a\", \"b\"])\n",
    "s"
   ]
  },
  {
   "cell_type": "markdown",
   "metadata": {
    "slideshow": {
     "slide_type": "subslide"
    }
   },
   "source": [
    "Sets offer a way to de-duplicate lists"
   ]
  },
  {
   "cell_type": "code",
   "execution_count": 19,
   "metadata": {
    "execution": {
     "iopub.execute_input": "2021-03-06T15:35:22.212206Z",
     "iopub.status.busy": "2021-03-06T15:35:22.211881Z",
     "iopub.status.idle": "2021-03-06T15:35:22.213065Z",
     "shell.execute_reply": "2021-03-06T15:35:22.213400Z"
    }
   },
   "outputs": [
    {
     "name": "stdout",
     "output_type": "stream",
     "text": [
      "{'b', 'a'}\n"
     ]
    }
   ],
   "source": [
    "l = [\"a\", \"b\", \"a\"]\n",
    "s = set(l)\n",
    "print(s)"
   ]
  },
  {
   "cell_type": "code",
   "execution_count": 20,
   "metadata": {
    "execution": {
     "iopub.execute_input": "2021-03-06T15:35:22.215490Z",
     "iopub.status.busy": "2021-03-06T15:35:22.214981Z",
     "iopub.status.idle": "2021-03-06T15:35:22.324377Z",
     "shell.execute_reply": "2021-03-06T15:35:22.324730Z"
    },
    "slideshow": {
     "slide_type": "fragment"
    }
   },
   "outputs": [
    {
     "name": "stdout",
     "output_type": "stream",
     "text": [
      "['a' 'b']\n"
     ]
    }
   ],
   "source": [
    "# can also be done in numpy\n",
    "import numpy as np\n",
    "\n",
    "print(np.unique(l))"
   ]
  },
  {
   "cell_type": "markdown",
   "metadata": {
    "slideshow": {
     "slide_type": "subslide"
    }
   },
   "source": [
    "Handy math operations on sets"
   ]
  },
  {
   "cell_type": "code",
   "execution_count": 21,
   "metadata": {
    "execution": {
     "iopub.execute_input": "2021-03-06T15:35:22.327164Z",
     "iopub.status.busy": "2021-03-06T15:35:22.326796Z",
     "iopub.status.idle": "2021-03-06T15:35:22.328017Z",
     "shell.execute_reply": "2021-03-06T15:35:22.328344Z"
    }
   },
   "outputs": [
    {
     "name": "stdout",
     "output_type": "stream",
     "text": [
      "{'s3', 's2'}\n"
     ]
    }
   ],
   "source": [
    "all_subjects = [\"s1\", \"s2\", \"s3\", \"s4\"]\n",
    "available_subjects = [\"s1\", \"s4\"]\n",
    "\n",
    "missing_subjects = set(all_subjects) - set(available_subjects)\n",
    "print(missing_subjects)"
   ]
  },
  {
   "cell_type": "code",
   "execution_count": 22,
   "metadata": {
    "execution": {
     "iopub.execute_input": "2021-03-06T15:35:22.330515Z",
     "iopub.status.busy": "2021-03-06T15:35:22.330137Z",
     "iopub.status.idle": "2021-03-06T15:35:22.331424Z",
     "shell.execute_reply": "2021-03-06T15:35:22.331752Z"
    },
    "slideshow": {
     "slide_type": "subslide"
    }
   },
   "outputs": [
    {
     "name": "stdout",
     "output_type": "stream",
     "text": [
      "{'s1', 's4'}\n"
     ]
    }
   ],
   "source": [
    "pool_1 = [\"s1\", \"s2\", \"s3\", \"s4\"]\n",
    "pool_2 = [\"s1\", \"s4\", \"s5\", \"s6\"]\n",
    "\n",
    "in_both = set(pool_1) & set(pool_2)\n",
    "print(in_both)"
   ]
  },
  {
   "cell_type": "markdown",
   "metadata": {
    "slideshow": {
     "slide_type": "subslide"
    }
   },
   "source": [
    "## Tuples: ordered and unchangeable\n",
    "Once a tuple is defined, it cannot be changed (immutable)"
   ]
  },
  {
   "cell_type": "code",
   "execution_count": 23,
   "metadata": {
    "execution": {
     "iopub.execute_input": "2021-03-06T15:35:22.333571Z",
     "iopub.status.busy": "2021-03-06T15:35:22.333251Z",
     "iopub.status.idle": "2021-03-06T15:35:22.334421Z",
     "shell.execute_reply": "2021-03-06T15:35:22.334754Z"
    }
   },
   "outputs": [],
   "source": [
    "t = (\"a\", \"b\")"
   ]
  },
  {
   "cell_type": "markdown",
   "metadata": {
    "slideshow": {
     "slide_type": "subslide"
    }
   },
   "source": [
    "\n",
    "### Built-In Data Structures\n",
    "\n",
    "| Type Name | Example                   |Description                            |\n",
    "|-----------|---------------------------|---------------------------------------|\n",
    "| ``list``  | ``[1, 2, 3]``             | Ordered collection                    |\n",
    "| ``dict``  | ``{'a':1, 'b':2, 'c':3}`` | Key-value mapping                     |\n",
    "| ``tuple`` | ``(1, 2, 3)``             | Immutable ordered collection          |\n",
    "| ``set``   | ``{1, 2, 3}``             | Unordered collection of unique values |\n",
    "\n",
    "https://github.com/jakevdp/WhirlwindTourOfPython/\n",
    "\n"
   ]
  },
  {
   "cell_type": "markdown",
   "metadata": {
    "slideshow": {
     "slide_type": "subslide"
    }
   },
   "source": [
    "## Indexing\n",
    "**In Python: is 0-based**"
   ]
  },
  {
   "cell_type": "code",
   "execution_count": 24,
   "metadata": {
    "execution": {
     "iopub.execute_input": "2021-03-06T15:35:22.336795Z",
     "iopub.status.busy": "2021-03-06T15:35:22.336470Z",
     "iopub.status.idle": "2021-03-06T15:35:22.337781Z",
     "shell.execute_reply": "2021-03-06T15:35:22.338115Z"
    }
   },
   "outputs": [
    {
     "name": "stdout",
     "output_type": "stream",
     "text": [
      "10\n"
     ]
    }
   ],
   "source": [
    "l = [10, 20, 30, 40]\n",
    "print(l[0])  # returns first element!"
   ]
  },
  {
   "cell_type": "code",
   "execution_count": 25,
   "metadata": {
    "execution": {
     "iopub.execute_input": "2021-03-06T15:35:22.340200Z",
     "iopub.status.busy": "2021-03-06T15:35:22.339830Z",
     "iopub.status.idle": "2021-03-06T15:35:22.341031Z",
     "shell.execute_reply": "2021-03-06T15:35:22.341358Z"
    },
    "slideshow": {
     "slide_type": "subslide"
    }
   },
   "outputs": [
    {
     "name": "stdout",
     "output_type": "stream",
     "text": [
      "40\n"
     ]
    }
   ],
   "source": [
    "l = [10, 20, 30, 40]\n",
    "print(l[-1])  # returns last element!"
   ]
  },
  {
   "cell_type": "code",
   "execution_count": 26,
   "metadata": {
    "execution": {
     "iopub.execute_input": "2021-03-06T15:35:22.343267Z",
     "iopub.status.busy": "2021-03-06T15:35:22.342909Z",
     "iopub.status.idle": "2021-03-06T15:35:22.344138Z",
     "shell.execute_reply": "2021-03-06T15:35:22.344472Z"
    },
    "slideshow": {
     "slide_type": "subslide"
    }
   },
   "outputs": [
    {
     "name": "stdout",
     "output_type": "stream",
     "text": [
      "[10, 20]\n"
     ]
    }
   ],
   "source": [
    "l = [10, 20, 30, 40]\n",
    "print(l[:2])  # end exclusive"
   ]
  },
  {
   "cell_type": "code",
   "execution_count": 27,
   "metadata": {
    "execution": {
     "iopub.execute_input": "2021-03-06T15:35:22.346361Z",
     "iopub.status.busy": "2021-03-06T15:35:22.346041Z",
     "iopub.status.idle": "2021-03-06T15:35:22.347319Z",
     "shell.execute_reply": "2021-03-06T15:35:22.347648Z"
    },
    "slideshow": {
     "slide_type": "fragment"
    }
   },
   "outputs": [
    {
     "name": "stdout",
     "output_type": "stream",
     "text": [
      "[30, 40]\n"
     ]
    }
   ],
   "source": [
    "l = [10, 20, 30, 40]\n",
    "print(l[2:])  # beginning inclusive"
   ]
  },
  {
   "cell_type": "code",
   "execution_count": 28,
   "metadata": {
    "execution": {
     "iopub.execute_input": "2021-03-06T15:35:22.349480Z",
     "iopub.status.busy": "2021-03-06T15:35:22.349168Z",
     "iopub.status.idle": "2021-03-06T15:35:22.350411Z",
     "shell.execute_reply": "2021-03-06T15:35:22.350729Z"
    },
    "slideshow": {
     "slide_type": "fragment"
    }
   },
   "outputs": [
    {
     "name": "stdout",
     "output_type": "stream",
     "text": [
      "[20, 30]\n"
     ]
    }
   ],
   "source": [
    "l = [10, 20, 30, 40]\n",
    "print(l[1:3])"
   ]
  },
  {
   "cell_type": "markdown",
   "metadata": {
    "slideshow": {
     "slide_type": "slide"
    }
   },
   "source": [
    "# List and dict comprehension"
   ]
  },
  {
   "cell_type": "markdown",
   "metadata": {
    "slideshow": {
     "slide_type": "subslide"
    }
   },
   "source": [
    "## List comprehension"
   ]
  },
  {
   "cell_type": "code",
   "execution_count": 29,
   "metadata": {
    "execution": {
     "iopub.execute_input": "2021-03-06T15:35:22.353014Z",
     "iopub.status.busy": "2021-03-06T15:35:22.352656Z",
     "iopub.status.idle": "2021-03-06T15:35:22.353782Z",
     "shell.execute_reply": "2021-03-06T15:35:22.354102Z"
    }
   },
   "outputs": [
    {
     "name": "stdout",
     "output_type": "stream",
     "text": [
      "['apples', 'oranges', 'bananas']\n"
     ]
    }
   ],
   "source": [
    "fruits = [\"aPPleS\", \"oRanges\", \"BananaS\"]\n",
    "fruits_clean = []\n",
    "for fruit in fruits:\n",
    "    fruits_clean.append(fruit.lower())\n",
    "print(fruits_clean)"
   ]
  },
  {
   "cell_type": "markdown",
   "metadata": {
    "slideshow": {
     "slide_type": "fragment"
    }
   },
   "source": [
    "Can be written as"
   ]
  },
  {
   "cell_type": "code",
   "execution_count": 30,
   "metadata": {
    "execution": {
     "iopub.execute_input": "2021-03-06T15:35:22.356321Z",
     "iopub.status.busy": "2021-03-06T15:35:22.355971Z",
     "iopub.status.idle": "2021-03-06T15:35:22.357176Z",
     "shell.execute_reply": "2021-03-06T15:35:22.357495Z"
    }
   },
   "outputs": [
    {
     "name": "stdout",
     "output_type": "stream",
     "text": [
      "['apples', 'oranges', 'bananas']\n"
     ]
    }
   ],
   "source": [
    "fruits = [\"aPPleS\", \"oRanges\", \"BananaS\"]\n",
    "fruits_clean = [fruit.lower() for fruit in fruits]\n",
    "print(fruits_clean)"
   ]
  },
  {
   "cell_type": "markdown",
   "metadata": {
    "slideshow": {
     "slide_type": "subslide"
    }
   },
   "source": [
    "## Dict comprehension"
   ]
  },
  {
   "cell_type": "code",
   "execution_count": 31,
   "metadata": {
    "execution": {
     "iopub.execute_input": "2021-03-06T15:35:22.359722Z",
     "iopub.status.busy": "2021-03-06T15:35:22.359396Z",
     "iopub.status.idle": "2021-03-06T15:35:22.360667Z",
     "shell.execute_reply": "2021-03-06T15:35:22.360987Z"
    }
   },
   "outputs": [
    {
     "name": "stdout",
     "output_type": "stream",
     "text": [
      "{'apples': 4, 'oranges': 10, 'bananas': 1}\n"
     ]
    }
   ],
   "source": [
    "stock = {'apples': 3, 'oranges': 9, 'bananas': 0}\n",
    "for fruit in stock:\n",
    "    stock[fruit] = stock[fruit] + 1\n",
    "print(stock)"
   ]
  },
  {
   "cell_type": "code",
   "execution_count": 32,
   "metadata": {
    "execution": {
     "iopub.execute_input": "2021-03-06T15:35:22.363091Z",
     "iopub.status.busy": "2021-03-06T15:35:22.362776Z",
     "iopub.status.idle": "2021-03-06T15:35:22.364003Z",
     "shell.execute_reply": "2021-03-06T15:35:22.364334Z"
    },
    "slideshow": {
     "slide_type": "fragment"
    }
   },
   "outputs": [
    {
     "name": "stdout",
     "output_type": "stream",
     "text": [
      "{'apples': 4, 'oranges': 10, 'bananas': 1}\n"
     ]
    }
   ],
   "source": [
    "stock = {'apples': 3, 'oranges': 9, 'bananas': 0}\n",
    "stock = {fruit: i + 1 for fruit, i in stock.items()}\n",
    "print(stock)"
   ]
  },
  {
   "cell_type": "markdown",
   "metadata": {
    "slideshow": {
     "slide_type": "slide"
    }
   },
   "source": [
    "## Functions"
   ]
  },
  {
   "cell_type": "markdown",
   "metadata": {
    "slideshow": {
     "slide_type": "subslide"
    }
   },
   "source": [
    "* A block of code that only runs when explicitly called\n",
    "* Can accept arguments (or parameters) that alter its behavior\n",
    "* Can accept any number/type of inputs, but always return a single object\n",
    "    * Note: functions can return tuples (may *look like* multiple objects)\n",
    "    \n",
    "Adapted from [Tal Yarkoni](https://github.com/neurohackademy/introduction-to-python/blob/master/introduction-to-python.ipynb)"
   ]
  },
  {
   "cell_type": "code",
   "execution_count": 33,
   "metadata": {
    "execution": {
     "iopub.execute_input": "2021-03-06T15:35:22.366719Z",
     "iopub.status.busy": "2021-03-06T15:35:22.366415Z",
     "iopub.status.idle": "2021-03-06T15:35:22.367573Z",
     "shell.execute_reply": "2021-03-06T15:35:22.367898Z"
    },
    "slideshow": {
     "slide_type": "fragment"
    }
   },
   "outputs": [],
   "source": [
    "# We'll need the random module for this\n",
    "import random\n",
    "\n",
    "def add_noise(x, mu, sd):\n",
    "    ''' Adds gaussian noise to the input.\n",
    "    \n",
    "    Parameters:\n",
    "        x (number): The number to add noise to\n",
    "        mu (float): The mean of the gaussian noise distribution\n",
    "        sd (float): The standard deviation of the noise distribution\n",
    "    \n",
    "    Returns: A float.\n",
    "    '''\n",
    "    noise = random.normalvariate(mu, sd)\n",
    "    return (x + noise)"
   ]
  },
  {
   "cell_type": "code",
   "execution_count": 34,
   "metadata": {
    "execution": {
     "iopub.execute_input": "2021-03-06T15:35:22.369895Z",
     "iopub.status.busy": "2021-03-06T15:35:22.369558Z",
     "iopub.status.idle": "2021-03-06T15:35:22.370819Z",
     "shell.execute_reply": "2021-03-06T15:35:22.371141Z"
    },
    "slideshow": {
     "slide_type": "fragment"
    }
   },
   "outputs": [
    {
     "data": {
      "text/plain": [
       "5.370331991615064"
      ]
     },
     "execution_count": 1,
     "metadata": {},
     "output_type": "execute_result"
    }
   ],
   "source": [
    "# Let's try calling it...\n",
    "add_noise(5, 0, 2)"
   ]
  },
  {
   "cell_type": "markdown",
   "metadata": {
    "slideshow": {
     "slide_type": "subslide"
    }
   },
   "source": [
    "### Positional vs. keyword arguments\n",
    "* Positional arguments are defined by position and *must* be passed\n",
    "    * Arguments in the function signature are filled in order\n",
    "* Keyword arguments have a default value\n",
    "    * Arguments can be passed in arbitrary order (after any positional arguments)"
   ]
  },
  {
   "cell_type": "code",
   "execution_count": 35,
   "metadata": {
    "execution": {
     "iopub.execute_input": "2021-03-06T15:35:22.373273Z",
     "iopub.status.busy": "2021-03-06T15:35:22.372970Z",
     "iopub.status.idle": "2021-03-06T15:35:22.374065Z",
     "shell.execute_reply": "2021-03-06T15:35:22.374382Z"
    },
    "slideshow": {
     "slide_type": "fragment"
    }
   },
   "outputs": [],
   "source": [
    "def add_noise_with_defaults(x, mu=0, sd=1):\n",
    "    ''' Adds gaussian noise to the input.\n",
    "    \n",
    "    Parameters:\n",
    "        x (number): The number to add noise to\n",
    "        mu (float): The mean of the gaussian noise distribution\n",
    "        sd (float): The standard deviation of the noise distribution\n",
    "    \n",
    "    Returns: A float.\n",
    "    '''\n",
    "    noise = random.normalvariate(mu, sd)\n",
    "    return x + noise"
   ]
  },
  {
   "cell_type": "code",
   "execution_count": 36,
   "metadata": {
    "execution": {
     "iopub.execute_input": "2021-03-06T15:35:22.376504Z",
     "iopub.status.busy": "2021-03-06T15:35:22.376189Z",
     "iopub.status.idle": "2021-03-06T15:35:22.377593Z",
     "shell.execute_reply": "2021-03-06T15:35:22.377908Z"
    },
    "slideshow": {
     "slide_type": "fragment"
    }
   },
   "outputs": [
    {
     "data": {
      "text/plain": [
       "3.7868338621959774"
      ]
     },
     "execution_count": 1,
     "metadata": {},
     "output_type": "execute_result"
    }
   ],
   "source": [
    "add_noise_with_defaults(5, mu=0, sd=1)"
   ]
  },
  {
   "cell_type": "code",
   "execution_count": 37,
   "metadata": {
    "execution": {
     "iopub.execute_input": "2021-03-06T15:35:22.379807Z",
     "iopub.status.busy": "2021-03-06T15:35:22.379465Z",
     "iopub.status.idle": "2021-03-06T15:35:22.380865Z",
     "shell.execute_reply": "2021-03-06T15:35:22.381194Z"
    },
    "slideshow": {
     "slide_type": "fragment"
    }
   },
   "outputs": [
    {
     "data": {
      "text/plain": [
       "4.369144749307189"
      ]
     },
     "execution_count": 1,
     "metadata": {},
     "output_type": "execute_result"
    }
   ],
   "source": [
    "add_noise_with_defaults(5)"
   ]
  },
  {
   "cell_type": "code",
   "execution_count": 38,
   "metadata": {
    "execution": {
     "iopub.execute_input": "2021-03-06T15:35:22.383159Z",
     "iopub.status.busy": "2021-03-06T15:35:22.382843Z",
     "iopub.status.idle": "2021-03-06T15:35:22.384333Z",
     "shell.execute_reply": "2021-03-06T15:35:22.384548Z"
    },
    "slideshow": {
     "slide_type": "subslide"
    }
   },
   "outputs": [
    {
     "data": {
      "text/plain": [
       "6.834701609375708"
      ]
     },
     "execution_count": 1,
     "metadata": {},
     "output_type": "execute_result"
    }
   ],
   "source": [
    "add_noise_with_defaults(5, mu=3)"
   ]
  },
  {
   "cell_type": "code",
   "execution_count": 39,
   "metadata": {
    "execution": {
     "iopub.execute_input": "2021-03-06T15:35:22.386422Z",
     "iopub.status.busy": "2021-03-06T15:35:22.386100Z",
     "iopub.status.idle": "2021-03-06T15:35:22.387564Z",
     "shell.execute_reply": "2021-03-06T15:35:22.387885Z"
    },
    "slideshow": {
     "slide_type": "fragment"
    }
   },
   "outputs": [
    {
     "data": {
      "text/plain": [
       "4.9771732856025395"
      ]
     },
     "execution_count": 1,
     "metadata": {},
     "output_type": "execute_result"
    }
   ],
   "source": [
    "add_noise_with_defaults(5, sd=3)"
   ]
  },
  {
   "cell_type": "markdown",
   "metadata": {
    "slideshow": {
     "slide_type": "subslide"
    }
   },
   "source": [
    "## Functions in modules\n",
    "Let's create an array with numpy"
   ]
  },
  {
   "cell_type": "code",
   "execution_count": 40,
   "metadata": {
    "execution": {
     "iopub.execute_input": "2021-03-06T15:35:22.390229Z",
     "iopub.status.busy": "2021-03-06T15:35:22.389897Z",
     "iopub.status.idle": "2021-03-06T15:35:22.391878Z",
     "shell.execute_reply": "2021-03-06T15:35:22.392199Z"
    },
    "slideshow": {
     "slide_type": "-"
    }
   },
   "outputs": [
    {
     "name": "stdout",
     "output_type": "stream",
     "text": [
      "[[ 1  2]\n",
      " [10 20]]\n"
     ]
    }
   ],
   "source": [
    "import numpy as np\n",
    "\n",
    "data = np.array([[1, 2], [10, 20]])\n",
    "print(data)"
   ]
  },
  {
   "cell_type": "markdown",
   "metadata": {
    "slideshow": {
     "slide_type": "fragment"
    }
   },
   "source": [
    "We can calculate the mean with the `np.mean` function:"
   ]
  },
  {
   "cell_type": "code",
   "execution_count": 41,
   "metadata": {
    "execution": {
     "iopub.execute_input": "2021-03-06T15:35:22.394300Z",
     "iopub.status.busy": "2021-03-06T15:35:22.393959Z",
     "iopub.status.idle": "2021-03-06T15:35:22.395111Z",
     "shell.execute_reply": "2021-03-06T15:35:22.395433Z"
    },
    "slideshow": {
     "slide_type": "-"
    }
   },
   "outputs": [
    {
     "name": "stdout",
     "output_type": "stream",
     "text": [
      "8.25\n"
     ]
    }
   ],
   "source": [
    "m = np.mean(data)\n",
    "print(m)"
   ]
  },
  {
   "cell_type": "markdown",
   "metadata": {
    "slideshow": {
     "slide_type": "subslide"
    }
   },
   "source": [
    "To get a list of arguments, check the `np.mean` function's help:"
   ]
  },
  {
   "cell_type": "code",
   "execution_count": 42,
   "metadata": {
    "execution": {
     "iopub.execute_input": "2021-03-06T15:35:22.397621Z",
     "iopub.status.busy": "2021-03-06T15:35:22.397313Z",
     "iopub.status.idle": "2021-03-06T15:35:22.398474Z",
     "shell.execute_reply": "2021-03-06T15:35:22.398795Z"
    }
   },
   "outputs": [
    {
     "name": "stdout",
     "output_type": "stream",
     "text": [
      "Help on function mean in module numpy:\n",
      "\n",
      "mean(a, axis=None, dtype=None, out=None, keepdims=<no value>)\n",
      "    Compute the arithmetic mean along the specified axis.\n",
      "    \n",
      "    Returns the average of the array elements.  The average is taken over\n",
      "    the flattened array by default, otherwise over the specified axis.\n",
      "    `float64` intermediate and return values are used for integer inputs.\n",
      "    \n",
      "    Parameters\n",
      "    ----------\n",
      "    a : array_like\n",
      "        Array containing numbers whose mean is desired. If `a` is not an\n",
      "        array, a conversion is attempted.\n",
      "    axis : None or int or tuple of ints, optional\n",
      "        Axis or axes along which the means are computed. The default is to\n",
      "        compute the mean of the flattened array.\n",
      "    \n",
      "        .. versionadded:: 1.7.0\n",
      "    \n",
      "        If this is a tuple of ints, a mean is performed over multiple axes,\n",
      "        instead of a single axis or all the axes as before.\n",
      "    dtype : data-type, optional\n",
      "        Type to use in computing the mean.  For integer inputs, the default\n",
      "        is `float64`; for floating point inputs, it is the same as the\n",
      "        input dtype.\n",
      "    out : ndarray, optional\n",
      "        Alternate output array in which to place the result.  The default\n",
      "        is ``None``; if provided, it must have the same shape as the\n",
      "        expected output, but the type will be cast if necessary.\n",
      "        See `ufuncs-output-type` for more details.\n",
      "    \n",
      "    keepdims : bool, optional\n",
      "        If this is set to True, the axes which are reduced are left\n",
      "        in the result as dimensions with size one. With this option,\n",
      "        the result will broadcast correctly against the input array.\n",
      "    \n",
      "        If the default value is passed, then `keepdims` will not be\n",
      "        passed through to the `mean` method of sub-classes of\n",
      "        `ndarray`, however any non-default value will be.  If the\n",
      "        sub-class' method does not implement `keepdims` any\n",
      "        exceptions will be raised.\n",
      "    \n",
      "    Returns\n",
      "    -------\n",
      "    m : ndarray, see dtype parameter above\n",
      "        If `out=None`, returns a new array containing the mean values,\n",
      "        otherwise a reference to the output array is returned.\n",
      "    \n",
      "    See Also\n",
      "    --------\n",
      "    average : Weighted average\n",
      "    std, var, nanmean, nanstd, nanvar\n",
      "    \n",
      "    Notes\n",
      "    -----\n",
      "    The arithmetic mean is the sum of the elements along the axis divided\n",
      "    by the number of elements.\n",
      "    \n",
      "    Note that for floating-point input, the mean is computed using the\n",
      "    same precision the input has.  Depending on the input data, this can\n",
      "    cause the results to be inaccurate, especially for `float32` (see\n",
      "    example below).  Specifying a higher-precision accumulator using the\n",
      "    `dtype` keyword can alleviate this issue.\n",
      "    \n",
      "    By default, `float16` results are computed using `float32` intermediates\n",
      "    for extra precision.\n",
      "    \n",
      "    Examples\n",
      "    --------\n",
      "    >>> a = np.array([[1, 2], [3, 4]])\n",
      "    >>> np.mean(a)\n",
      "    2.5\n",
      "    >>> np.mean(a, axis=0)\n",
      "    array([2., 3.])\n",
      "    >>> np.mean(a, axis=1)\n",
      "    array([1.5, 3.5])\n",
      "    \n",
      "    In single precision, `mean` can be inaccurate:\n",
      "    \n",
      "    >>> a = np.zeros((2, 512*512), dtype=np.float32)\n",
      "    >>> a[0, :] = 1.0\n",
      "    >>> a[1, :] = 0.1\n",
      "    >>> np.mean(a)\n",
      "    0.54999924\n",
      "    \n",
      "    Computing the mean in float64 is more accurate:\n",
      "    \n",
      "    >>> np.mean(a, dtype=np.float64)\n",
      "    0.55000000074505806 # may vary\n",
      "\n"
     ]
    }
   ],
   "source": [
    "help(np.mean)"
   ]
  },
  {
   "cell_type": "markdown",
   "metadata": {
    "slideshow": {
     "slide_type": "slide"
    }
   },
   "source": [
    "# Everything is an object\n",
    "\n",
    "Python is an object-oriented programming language, and in Python everything is an object.\n",
    "* variables\n",
    "* functions\n",
    "* modules\n",
    "* ...\n",
    "\n",
    "The operations you can perform with an object depend on the object's definition. E.g., calling `help` works on all of them."
   ]
  },
  {
   "cell_type": "markdown",
   "metadata": {
    "slideshow": {
     "slide_type": "subslide"
    }
   },
   "source": [
    "Objects can have \n",
    "1. **attributes** : something that describes the object, and \n",
    "1. **methods**: a fuction of the object\n",
    "\n",
    "For example, before we saw that lists have an ``append`` method, which adds an item to the list, and is accessed via the dot (\"``.``\") syntax:"
   ]
  },
  {
   "cell_type": "code",
   "execution_count": 43,
   "metadata": {
    "execution": {
     "iopub.execute_input": "2021-03-06T15:35:22.400851Z",
     "iopub.status.busy": "2021-03-06T15:35:22.400535Z",
     "iopub.status.idle": "2021-03-06T15:35:22.401678Z",
     "shell.execute_reply": "2021-03-06T15:35:22.401992Z"
    }
   },
   "outputs": [
    {
     "name": "stdout",
     "output_type": "stream",
     "text": [
      "[1, 2, 3, 100]\n"
     ]
    }
   ],
   "source": [
    "L = [1, 2, 3]\n",
    "L.append(100)\n",
    "print(L)"
   ]
  },
  {
   "cell_type": "code",
   "execution_count": 44,
   "metadata": {
    "execution": {
     "iopub.execute_input": "2021-03-06T15:35:22.404189Z",
     "iopub.status.busy": "2021-03-06T15:35:22.403865Z",
     "iopub.status.idle": "2021-03-06T15:35:22.405409Z",
     "shell.execute_reply": "2021-03-06T15:35:22.405625Z"
    },
    "slideshow": {
     "slide_type": "subslide"
    }
   },
   "outputs": [
    {
     "data": {
      "text/plain": [
       "array([[ 1,  2,  3],\n",
       "       [11, 22, 44]])"
      ]
     },
     "execution_count": 1,
     "metadata": {},
     "output_type": "execute_result"
    }
   ],
   "source": [
    "import numpy as np\n",
    "\n",
    "a = np.array([[1, 2, 3], [11, 22, 44]])\n",
    "a"
   ]
  },
  {
   "cell_type": "markdown",
   "metadata": {},
   "source": [
    "### Attributes "
   ]
  },
  {
   "cell_type": "code",
   "execution_count": 45,
   "metadata": {
    "execution": {
     "iopub.execute_input": "2021-03-06T15:35:22.407706Z",
     "iopub.status.busy": "2021-03-06T15:35:22.407394Z",
     "iopub.status.idle": "2021-03-06T15:35:22.408700Z",
     "shell.execute_reply": "2021-03-06T15:35:22.409039Z"
    }
   },
   "outputs": [
    {
     "data": {
      "text/plain": [
       "(2, 3)"
      ]
     },
     "execution_count": 1,
     "metadata": {},
     "output_type": "execute_result"
    }
   ],
   "source": [
    "a.shape"
   ]
  },
  {
   "cell_type": "markdown",
   "metadata": {},
   "source": [
    "### Methods"
   ]
  },
  {
   "cell_type": "code",
   "execution_count": 46,
   "metadata": {
    "execution": {
     "iopub.execute_input": "2021-03-06T15:35:22.411132Z",
     "iopub.status.busy": "2021-03-06T15:35:22.410791Z",
     "iopub.status.idle": "2021-03-06T15:35:22.412150Z",
     "shell.execute_reply": "2021-03-06T15:35:22.412483Z"
    }
   },
   "outputs": [
    {
     "data": {
      "text/plain": [
       "array([ 1,  2,  3, 11, 22, 44])"
      ]
     },
     "execution_count": 1,
     "metadata": {},
     "output_type": "execute_result"
    }
   ],
   "source": [
    "a.flatten()"
   ]
  },
  {
   "cell_type": "markdown",
   "metadata": {},
   "source": [
    "Note the difference re. **brackets!**"
   ]
  },
  {
   "cell_type": "markdown",
   "metadata": {
    "slideshow": {
     "slide_type": "slide"
    }
   },
   "source": [
    "# Python and package version"
   ]
  },
  {
   "cell_type": "code",
   "execution_count": 47,
   "metadata": {
    "execution": {
     "iopub.execute_input": "2021-03-06T15:35:22.414446Z",
     "iopub.status.busy": "2021-03-06T15:35:22.414123Z",
     "iopub.status.idle": "2021-03-06T15:35:22.415377Z",
     "shell.execute_reply": "2021-03-06T15:35:22.415593Z"
    }
   },
   "outputs": [
    {
     "name": "stdout",
     "output_type": "stream",
     "text": [
      "3.8.5 (default, Sep  4 2020, 02:22:02) \n",
      "[Clang 10.0.0 ]\n"
     ]
    }
   ],
   "source": [
    "import sys\n",
    "print(sys.version)"
   ]
  },
  {
   "cell_type": "code",
   "execution_count": 48,
   "metadata": {
    "execution": {
     "iopub.execute_input": "2021-03-06T15:35:22.417555Z",
     "iopub.status.busy": "2021-03-06T15:35:22.417227Z",
     "iopub.status.idle": "2021-03-06T15:35:22.418379Z",
     "shell.execute_reply": "2021-03-06T15:35:22.418713Z"
    },
    "slideshow": {
     "slide_type": "subslide"
    }
   },
   "outputs": [
    {
     "name": "stdout",
     "output_type": "stream",
     "text": [
      "1.19.2\n"
     ]
    }
   ],
   "source": [
    "import numpy as np\n",
    "print(np.__version__)"
   ]
  },
  {
   "cell_type": "markdown",
   "metadata": {
    "slideshow": {
     "slide_type": "fragment"
    }
   },
   "source": [
    "or run\n",
    "```bash \n",
    "conda list\n",
    "```\n",
    "\n",
    "in the terminal to get a list of all packages"
   ]
  }
 ],
 "metadata": {
  "kernelspec": {
   "display_name": "Python 3",
   "language": "python",
   "name": "python3"
  },
  "language_info": {
   "codemirror_mode": {
    "name": "ipython",
    "version": 3
   },
   "file_extension": ".py",
   "mimetype": "text/x-python",
   "name": "python",
   "nbconvert_exporter": "python",
   "pygments_lexer": "ipython3",
   "version": "3.8.5"
  }
 },
 "nbformat": 4,
 "nbformat_minor": 4
}
