{
 "cells": [
  {
   "cell_type": "markdown",
   "metadata": {
    "nbpresent": {
     "id": "0959da06-a9fc-4297-8ed8-9a9353a19895"
    },
    "slideshow": {
     "slide_type": "slide"
    }
   },
   "source": [
    "# How to run Python code\n",
    "\n",
    "This lesson is the most important part of this workshop. If you only pay attention to one thing, do it here."
   ]
  },
  {
   "cell_type": "markdown",
   "metadata": {
    "nbpresent": {
     "id": "660a0919-0205-46a6-9614-33283a884460"
    },
    "slideshow": {
     "slide_type": "subslide"
    }
   },
   "source": [
    "## Python files\n",
    "* Python scripts are plain text file\n",
    "* Ext: **.py**\n",
    "* They can be created and modified with every text editor\n",
    "* However, **IDEs** (integrated development environments) offer handy features like syntax highlighting"
   ]
  },
  {
   "cell_type": "markdown",
   "metadata": {
    "nbpresent": {
     "id": "e0099e2f-53ec-44a4-83e2-52baef7bd33d"
    },
    "slideshow": {
     "slide_type": "subslide"
    }
   },
   "source": [
    "## Running Python code\n",
    "We have multiple options:\n",
    "\n",
    "* an IDE (e.g., VS Code)\n",
    "* Jupyter notebooks (a.k.a IPython notebooks; can be executed in VS Code, `jupyter-lab` or `jupyter-notebook`)\n",
    "* the interactive Python (or IPython) interpreter (started via `python` or `ipython`)\n",
    "* the command line (by executing a script e.g.: `python analyze_data.py`)"
   ]
  },
  {
   "cell_type": "markdown",
   "metadata": {
    "nbpresent": {
     "id": "449bbb99-6b21-4295-bf0f-3f670e1de942"
    },
    "slideshow": {
     "slide_type": "slide"
    }
   },
   "source": [
    "# Exeuting code in VS Code\n",
    "\n",
    "To learn more about VS Code, check out their [introductory videos](https://code.visualstudio.com/docs/getstarted/introvideos).\n",
    "\n",
    "## Open Visual Studio Code\n",
    "\n",
    "**Important for Windows users**: To ensure that the environment is set correctly, do not open VS Code via the windows menu but \n",
    "\n",
    "1. open the anaconda prompt, and\n",
    "1. type `code` into the prompt and hit enter"
   ]
  },
  {
   "cell_type": "markdown",
   "metadata": {
    "slideshow": {
     "slide_type": "subslide"
    }
   },
   "source": [
    "## Create file\n",
    "1. File --> Open --> select or create folder\n",
    "1. File --> New file\n",
    "1. Paste some valid python code, e.g., `print(\"hi\")`\n",
    "1. Save file with `.py` extention, e.g., `hello.py`"
   ]
  },
  {
   "cell_type": "markdown",
   "metadata": {
    "slideshow": {
     "slide_type": "subslide"
    }
   },
   "source": [
    "## Configure run\n",
    "\n",
    "1. In the sidebar, select **Run** (play button)\n",
    "\n",
    "<img src=\"images/run.png\">\n",
    "\n",
    "2. Click **Create launch.json file** and select **Python file** from the pop-up\n",
    "\n",
    "\n",
    "<img src=\"images/config_python.png\">\n",
    "\n",
    "3. Close the launch.json file\n"
   ]
  },
  {
   "cell_type": "markdown",
   "metadata": {
    "slideshow": {
     "slide_type": "subslide"
    }
   },
   "source": [
    "## Check interpreter\n",
    "Click on the bar at the bottom of your window\n",
    "\n",
    "<img src=\"images/bar.png\">\n",
    "\n",
    "and check that the interpreter is set to anaconda python, something like \n",
    "\n",
    "<img src=\"images/interpreter.png\">"
   ]
  },
  {
   "cell_type": "markdown",
   "metadata": {
    "slideshow": {
     "slide_type": "subslide"
    }
   },
   "source": [
    "## Run script\n",
    "1. Press the run button\n",
    "\n",
    "<img src=\"images/run_button.png\">\n",
    "\n",
    "This should look something like this\n",
    "\n",
    "<img src=\"images/run_script.png\">\n"
   ]
  },
  {
   "cell_type": "markdown",
   "metadata": {
    "slideshow": {
     "slide_type": "subslide"
    }
   },
   "source": [
    "## Expand script\n",
    "\n",
    "* Now add the following code below your code (make sure there are no spaces or tabs at the beginning of the line).\n",
    "```\n",
    "import matplotlib.pyplot as plt\n",
    "plt.plot(range(10))\n",
    "plt.show()\n",
    "```\n",
    "\n",
    "* Observe what happens when you run the script again\n"
   ]
  },
  {
   "cell_type": "markdown",
   "metadata": {
    "nbpresent": {
     "id": "b1a06d0e-7859-4f42-9bb5-5ff9a6e3d986"
    },
    "slideshow": {
     "slide_type": "slide"
    }
   },
   "source": [
    "# Jupyter Notebooks\n",
    "* Allow to combine code and output (text, plots) in a single file\n",
    "* Ext: **.ipynb**\n",
    "* c.f. R-Markdown\n",
    "* These slides are written with jupyter notebook\n",
    "* Nowadays, most of the online Python tutorials are distributed as notebooks \n"
   ]
  },
  {
   "cell_type": "markdown",
   "metadata": {
    "slideshow": {
     "slide_type": "subslide"
    }
   },
   "source": [
    "## Notebooks in VS Code\n",
    "For further information, read [Working with Jupyter Notebooks in Visual Studio Code](https://code.visualstudio.com/docs/python/jupyter-support)\n",
    "\n",
    "* View --> Command palette\n",
    "* Start typing and select: \"Create New Blank Jupyter Notebook\"\n",
    "\n",
    "<img src=\"images/create_nb.png\">\n",
    "\n",
    "* This opens a notebook, which you can save"
   ]
  },
  {
   "cell_type": "markdown",
   "metadata": {
    "slideshow": {
     "slide_type": "subslide"
    }
   },
   "source": [
    "Paste this code into the first cell (no leading spaces!):\n",
    "```\n",
    "print(\"hi\")\n",
    "```\n"
   ]
  },
  {
   "cell_type": "markdown",
   "metadata": {
    "slideshow": {
     "slide_type": "subslide"
    }
   },
   "source": [
    "* Add another cell (+) and paste the following:\n",
    "```\n",
    "import matplotlib.pyplot as plt\n",
    "plt.plot(range(10))\n",
    "```"
   ]
  },
  {
   "cell_type": "markdown",
   "metadata": {
    "slideshow": {
     "slide_type": "subslide"
    }
   },
   "source": [
    "* Execute the entire notebook via the double-arrow button\n",
    "\n",
    "<img src=\"images/nb_contr.png\">\n",
    "\n",
    "* Execute single cells with the arrow button next to the cell"
   ]
  },
  {
   "cell_type": "markdown",
   "metadata": {
    "slideshow": {
     "slide_type": "subslide"
    }
   },
   "source": [
    "This should look something like this\n",
    "\n",
    "<img src=\"images/rendered_nb.png\">"
   ]
  },
  {
   "cell_type": "markdown",
   "metadata": {
    "slideshow": {
     "slide_type": "slide"
    }
   },
   "source": [
    "# Interactive Python shell\n",
    "\n",
    "* open Terminal/Anaconda-Prompt\n",
    "* launch `ipython` (or `python`, but `ipython` is nicer)\n",
    "* code away"
   ]
  },
  {
   "cell_type": "markdown",
   "metadata": {
    "slideshow": {
     "slide_type": "slide"
    }
   },
   "source": [
    "# Appendix\n"
   ]
  },
  {
   "cell_type": "markdown",
   "metadata": {
    "slideshow": {
     "slide_type": "subslide"
    }
   },
   "source": [
    "## Executing code in\n",
    "* Jupyter notebooks in `jupyter-lab` or `jupyter-notebook`\n",
    "* the command line (by executing a script e.g.: `python analyze_data.py`)"
   ]
  },
  {
   "cell_type": "markdown",
   "metadata": {
    "nbpresent": {
     "id": "80b23abe-20d9-4b5b-8b19-0e4f345c3cbf"
    },
    "slideshow": {
     "slide_type": "subslide"
    }
   },
   "source": [
    "#  Notebooks in `jupyter notebook` and `jupyter lab`\n",
    "* **Terminal/Anaconda-Prompt**: `jupyter notebook` or `jupyter lab` OR\n",
    "* Launch **Anaconda Navigator** and start it from there"
   ]
  },
  {
   "cell_type": "markdown",
   "metadata": {
    "slideshow": {
     "slide_type": "subslide"
    }
   },
   "source": [
    "# Command line\n",
    "* create a hello.py file with code in it\n",
    "* open the terminal\n",
    "* change into the director your file resides in\n",
    "* run `python hello.py`"
   ]
  }
 ],
 "metadata": {
  "anaconda-cloud": {},
  "celltoolbar": "Slideshow",
  "kernelspec": {
   "display_name": "Python 3",
   "language": "python",
   "name": "python3"
  },
  "language_info": {
   "codemirror_mode": {
    "name": "ipython",
    "version": 3
   },
   "file_extension": ".py",
   "mimetype": "text/x-python",
   "name": "python",
   "nbconvert_exporter": "python",
   "pygments_lexer": "ipython3",
   "version": "3.8.3"
  },
  "nbpresent": {
   "slides": {
    "0dcd8143-7c53-4ff7-a44a-809f9bb91afc": {
     "id": "0dcd8143-7c53-4ff7-a44a-809f9bb91afc",
     "prev": "4701fb1c-1432-4446-9e92-e27d2e8665d0",
     "regions": {
      "c588fecf-80d3-4fc3-98f1-81afe592c462": {
       "attrs": {
        "height": 0.8,
        "width": 0.8,
        "x": 0.1,
        "y": 0.1
       },
       "content": {
        "cell": "80b23abe-20d9-4b5b-8b19-0e4f345c3cbf",
        "part": "whole"
       },
       "id": "c588fecf-80d3-4fc3-98f1-81afe592c462"
      }
     }
    },
    "13a959f6-4f36-473d-b5f7-07203d5f014d": {
     "id": "13a959f6-4f36-473d-b5f7-07203d5f014d",
     "prev": "a7004654-babd-4381-a373-b39c715a5dc8",
     "regions": {
      "e190c300-e2cb-49d2-8c87-bfe704919c90": {
       "attrs": {
        "height": 0.8,
        "width": 0.8,
        "x": 0.1,
        "y": 0.1
       },
       "content": {
        "cell": "449bbb99-6b21-4295-bf0f-3f670e1de942",
        "part": "whole"
       },
       "id": "e190c300-e2cb-49d2-8c87-bfe704919c90"
      }
     }
    },
    "1400442f-1ddb-4330-9308-5ee26ede47f3": {
     "id": "1400442f-1ddb-4330-9308-5ee26ede47f3",
     "prev": "a74801d3-3090-4340-bb86-d4a00ae89693",
     "regions": {
      "ce5433e6-01d9-4944-be79-98af0e46250e": {
       "attrs": {
        "height": 0.8,
        "width": 0.8,
        "x": 0.1,
        "y": 0.1
       },
       "content": {
        "cell": "e40cc0ab-68a5-45b7-8439-0ac46c9300ee",
        "part": "whole"
       },
       "id": "ce5433e6-01d9-4944-be79-98af0e46250e"
      }
     }
    },
    "1b88baea-44c0-402e-8f44-385d1731bdc8": {
     "id": "1b88baea-44c0-402e-8f44-385d1731bdc8",
     "prev": "6539f4d7-f541-4d57-9ded-4cbfea270f10",
     "regions": {
      "b6ee5cee-6483-4f6e-911b-4958f3979f99": {
       "attrs": {
        "height": 0.8,
        "width": 0.8,
        "x": 0.1,
        "y": 0.1
       },
       "content": {
        "cell": "c9c29c96-adbd-4436-98a2-6c7138157f3c",
        "part": "whole"
       },
       "id": "b6ee5cee-6483-4f6e-911b-4958f3979f99"
      }
     }
    },
    "3f114852-6633-41ee-807e-51e076dc49c8": {
     "id": "3f114852-6633-41ee-807e-51e076dc49c8",
     "prev": "cf389074-9933-4ed7-b873-5a9335018046",
     "regions": {
      "5bc7b878-1796-4349-8245-beefb91a53d8": {
       "attrs": {
        "height": 0.8,
        "width": 0.8,
        "x": 0.1,
        "y": 0.1
       },
       "content": {
        "cell": "14162cd9-94b8-4059-84f1-3ddbd990b3b8",
        "part": "whole"
       },
       "id": "5bc7b878-1796-4349-8245-beefb91a53d8"
      }
     }
    },
    "4701fb1c-1432-4446-9e92-e27d2e8665d0": {
     "id": "4701fb1c-1432-4446-9e92-e27d2e8665d0",
     "prev": "cc6489e1-d239-482b-bb2e-dc4a200e096e",
     "regions": {
      "62f6aaec-bc79-45dd-a297-418d3d785cc4": {
       "attrs": {
        "height": 0.8,
        "width": 0.8,
        "x": 0.1,
        "y": 0.1
       },
       "content": {
        "cell": "d6e849b3-96e7-4acc-921f-f442d628b5aa",
        "part": "whole"
       },
       "id": "62f6aaec-bc79-45dd-a297-418d3d785cc4"
      }
     }
    },
    "4febc720-bce6-47ae-b296-23b6e9e4259f": {
     "id": "4febc720-bce6-47ae-b296-23b6e9e4259f",
     "prev": "6904900c-ac9e-410d-b1ce-df7ce57ec81d",
     "regions": {
      "8555c024-7c52-4a40-a509-93ef83ab1a11": {
       "attrs": {
        "height": 0.8,
        "width": 0.8,
        "x": 0.1,
        "y": 0.1
       },
       "content": {
        "cell": "660a0919-0205-46a6-9614-33283a884460",
        "part": "whole"
       },
       "id": "8555c024-7c52-4a40-a509-93ef83ab1a11"
      }
     }
    },
    "6539f4d7-f541-4d57-9ded-4cbfea270f10": {
     "id": "6539f4d7-f541-4d57-9ded-4cbfea270f10",
     "prev": "0dcd8143-7c53-4ff7-a44a-809f9bb91afc",
     "regions": {
      "6ecde77d-3fcc-48b1-8848-508efdc0d53a": {
       "attrs": {
        "height": 0.8,
        "width": 0.8,
        "x": 0.1,
        "y": 0.1
       },
       "content": {
        "cell": "f2e6fa5a-a5c8-4468-bbe3-4020d606e273",
        "part": "whole"
       },
       "id": "6ecde77d-3fcc-48b1-8848-508efdc0d53a"
      }
     }
    },
    "6904900c-ac9e-410d-b1ce-df7ce57ec81d": {
     "id": "6904900c-ac9e-410d-b1ce-df7ce57ec81d",
     "prev": null,
     "regions": {
      "a689118d-12b5-4261-9228-7b57cbe2860f": {
       "attrs": {
        "height": 0.8,
        "width": 0.8,
        "x": 0.1,
        "y": 0.1
       },
       "content": {
        "cell": "0959da06-a9fc-4297-8ed8-9a9353a19895",
        "part": "whole"
       },
       "id": "a689118d-12b5-4261-9228-7b57cbe2860f"
      }
     }
    },
    "a7004654-babd-4381-a373-b39c715a5dc8": {
     "id": "a7004654-babd-4381-a373-b39c715a5dc8",
     "prev": "4febc720-bce6-47ae-b296-23b6e9e4259f",
     "regions": {
      "4baae931-5681-4515-9db6-33145ee4ec88": {
       "attrs": {
        "height": 0.8,
        "width": 0.8,
        "x": 0.1,
        "y": 0.1
       },
       "content": {
        "cell": "e0099e2f-53ec-44a4-83e2-52baef7bd33d",
        "part": "whole"
       },
       "id": "4baae931-5681-4515-9db6-33145ee4ec88"
      }
     }
    },
    "a74801d3-3090-4340-bb86-d4a00ae89693": {
     "id": "a74801d3-3090-4340-bb86-d4a00ae89693",
     "prev": "13a959f6-4f36-473d-b5f7-07203d5f014d",
     "regions": {
      "9826ef7c-9361-4564-851d-ca9628986790": {
       "attrs": {
        "height": 0.8,
        "width": 0.8,
        "x": 0.1,
        "y": 0.1
       },
       "content": {
        "cell": "1362c15a-8fc1-4c48-a5d0-54ce637f2340",
        "part": "whole"
       },
       "id": "9826ef7c-9361-4564-851d-ca9628986790"
      }
     }
    },
    "bc96ffbd-1181-4d74-8e77-07d4f5918fea": {
     "id": "bc96ffbd-1181-4d74-8e77-07d4f5918fea",
     "prev": "1b88baea-44c0-402e-8f44-385d1731bdc8",
     "regions": {
      "383d396e-ff0a-44ce-99ed-fb61893c9210": {
       "attrs": {
        "height": 0.8,
        "width": 0.8,
        "x": 0.1,
        "y": 0.1
       },
       "content": {
        "cell": "b153d653-2130-4303-90f0-a91794a292ba",
        "part": "whole"
       },
       "id": "383d396e-ff0a-44ce-99ed-fb61893c9210"
      }
     }
    },
    "cc6489e1-d239-482b-bb2e-dc4a200e096e": {
     "id": "cc6489e1-d239-482b-bb2e-dc4a200e096e",
     "prev": "1400442f-1ddb-4330-9308-5ee26ede47f3",
     "regions": {
      "9f093af7-9f86-4362-9b96-207b249cc765": {
       "attrs": {
        "height": 0.8,
        "width": 0.8,
        "x": 0.1,
        "y": 0.1
       },
       "content": {
        "cell": "b1a06d0e-7859-4f42-9bb5-5ff9a6e3d986",
        "part": "whole"
       },
       "id": "9f093af7-9f86-4362-9b96-207b249cc765"
      }
     }
    },
    "cf389074-9933-4ed7-b873-5a9335018046": {
     "id": "cf389074-9933-4ed7-b873-5a9335018046",
     "prev": "bc96ffbd-1181-4d74-8e77-07d4f5918fea",
     "regions": {
      "184cf4dc-7a03-4228-8d03-cd24de8939c3": {
       "attrs": {
        "height": 0.8,
        "width": 0.8,
        "x": 0.1,
        "y": 0.1
       },
       "content": {
        "cell": "dcde197d-030c-4f82-a8f0-023d8018eb75",
        "part": "whole"
       },
       "id": "184cf4dc-7a03-4228-8d03-cd24de8939c3"
      }
     }
    },
    "f16c110e-4089-4199-88fb-235a55c1b8b4": {
     "id": "f16c110e-4089-4199-88fb-235a55c1b8b4",
     "prev": "3f114852-6633-41ee-807e-51e076dc49c8",
     "regions": {
      "a0cf5435-324a-487b-8cb7-c81c58e61d12": {
       "attrs": {
        "height": 0.8,
        "width": 0.8,
        "x": 0.1,
        "y": 0.1
       },
       "content": {
        "cell": "0bc5fd6a-7203-4889-a1a9-a9bb17d06e1b",
        "part": "whole"
       },
       "id": "a0cf5435-324a-487b-8cb7-c81c58e61d12"
      }
     }
    }
   },
   "themes": {}
  }
 },
 "nbformat": 4,
 "nbformat_minor": 4
}
