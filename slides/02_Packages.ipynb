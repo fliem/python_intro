{
 "cells": [
  {
   "cell_type": "markdown",
   "metadata": {
    "slideshow": {
     "slide_type": "slide"
    }
   },
   "source": [
    "# Python packages"
   ]
  },
  {
   "cell_type": "markdown",
   "metadata": {
    "slideshow": {
     "slide_type": "subslide"
    }
   },
   "source": [
    "# TOC\n",
    "\n",
    "* Introduction to python packages\n",
    "* The Python standard library\n",
    "* Python packages for (neuro)science\n",
    "* Anaconda distribution\n",
    "* Installing packages"
   ]
  },
  {
   "cell_type": "markdown",
   "metadata": {
    "slideshow": {
     "slide_type": "subslide"
    }
   },
   "source": [
    "# Introduction to python packages\n",
    "* If you start a console, only very limited functionality is available ([the python standard library](https://docs.python.org/3/library/))\n",
    "* Python packages/modules: \n",
    "    * Packages are either in the standard library (installed when python is installed) or 3rd party (need to be installed - see later)\n",
    "    * Need to be loaded with `import` statements (usually at the beginning of a file)\n",
    "    * **Namespace:** Functions from packages is called with `<package_name>.<function_name>` (c.f. R)\n"
   ]
  },
  {
   "cell_type": "markdown",
   "metadata": {
    "slideshow": {
     "slide_type": "subslide"
    }
   },
   "source": [
    "## Using packages"
   ]
  },
  {
   "cell_type": "code",
   "execution_count": 1,
   "metadata": {
    "execution": {
     "iopub.execute_input": "2021-03-23T16:13:54.182050Z",
     "iopub.status.busy": "2021-03-23T16:13:54.180721Z",
     "iopub.status.idle": "2021-03-23T16:13:54.198456Z",
     "shell.execute_reply": "2021-03-23T16:13:54.199334Z"
    },
    "slideshow": {
     "slide_type": "-"
    }
   },
   "outputs": [
    {
     "data": {
      "text/plain": [
       "['04_Basic_python.ipynb',\n",
       " '10_Plotting.slides.html',\n",
       " 'requirements.txt',\n",
       " '01_Demos.slides.html',\n",
       " '09_Pandas_intro_detailed.ipynb',\n",
       " 'images',\n",
       " '01_Demos.ipynb',\n",
       " '00_Resources.ipynb',\n",
       " '03_How_to_run_code.slides.html',\n",
       " '02_Packages.ipynb',\n",
       " '05_Debugging.slides.html',\n",
       " '06_Paths_and_files.ipynb',\n",
       " 'README.md',\n",
       " '06_Paths_and_files.slides.html',\n",
       " '05_Debugging.ipynb',\n",
       " '04_Basic_python.slides.html',\n",
       " '07_Why_python.slides.html',\n",
       " '09_Pandas_intro.slides.html',\n",
       " '11_Play.ipynb',\n",
       " '.ipynb_checkpoints',\n",
       " '08_Advanced_basic_python.slides.html',\n",
       " '08_Advanced_basic_python.ipynb',\n",
       " '03_How_to_run_code.ipynb',\n",
       " '07_Why_python.ipynb',\n",
       " '11_Play.slides.html',\n",
       " 'data',\n",
       " '09_Pandas_intro.ipynb',\n",
       " '10_Plotting.ipynb',\n",
       " '02_Packages.slides.html']"
      ]
     },
     "execution_count": 1,
     "metadata": {},
     "output_type": "execute_result"
    }
   ],
   "source": [
    "import os\n",
    "os.listdir()"
   ]
  },
  {
   "cell_type": "code",
   "execution_count": 2,
   "metadata": {
    "execution": {
     "iopub.execute_input": "2021-03-23T16:13:54.204305Z",
     "iopub.status.busy": "2021-03-23T16:13:54.203620Z",
     "iopub.status.idle": "2021-03-23T16:13:54.464164Z",
     "shell.execute_reply": "2021-03-23T16:13:54.464494Z"
    },
    "slideshow": {
     "slide_type": "subslide"
    }
   },
   "outputs": [
    {
     "data": {
      "text/plain": [
       "array([1, 2, 3])"
      ]
     },
     "execution_count": 1,
     "metadata": {},
     "output_type": "execute_result"
    }
   ],
   "source": [
    "import numpy\n",
    "numpy.array([1,2,3])"
   ]
  },
  {
   "cell_type": "markdown",
   "metadata": {
    "slideshow": {
     "slide_type": "fragment"
    }
   },
   "source": [
    "### We can define aliases"
   ]
  },
  {
   "cell_type": "code",
   "execution_count": 3,
   "metadata": {
    "execution": {
     "iopub.execute_input": "2021-03-23T16:13:54.466764Z",
     "iopub.status.busy": "2021-03-23T16:13:54.466427Z",
     "iopub.status.idle": "2021-03-23T16:13:54.467919Z",
     "shell.execute_reply": "2021-03-23T16:13:54.468234Z"
    }
   },
   "outputs": [
    {
     "data": {
      "text/plain": [
       "array([1, 2, 3])"
      ]
     },
     "execution_count": 1,
     "metadata": {},
     "output_type": "execute_result"
    }
   ],
   "source": [
    "import numpy as np\n",
    "np.array([1,2,3])"
   ]
  },
  {
   "cell_type": "markdown",
   "metadata": {
    "slideshow": {
     "slide_type": "subslide"
    }
   },
   "source": [
    "### We can import objects from a module"
   ]
  },
  {
   "cell_type": "code",
   "execution_count": 4,
   "metadata": {
    "execution": {
     "iopub.execute_input": "2021-03-23T16:13:54.470242Z",
     "iopub.status.busy": "2021-03-23T16:13:54.469882Z",
     "iopub.status.idle": "2021-03-23T16:13:54.471816Z",
     "shell.execute_reply": "2021-03-23T16:13:54.472144Z"
    }
   },
   "outputs": [
    {
     "data": {
      "text/plain": [
       "2.0"
      ]
     },
     "execution_count": 1,
     "metadata": {},
     "output_type": "execute_result"
    }
   ],
   "source": [
    "from numpy import median\n",
    "median([1,1,2,3,4])"
   ]
  },
  {
   "cell_type": "markdown",
   "metadata": {},
   "source": [
    "### This only imports the given object"
   ]
  },
  {
   "cell_type": "markdown",
   "metadata": {},
   "source": [
    "**Running**\n",
    "\n",
    "```\n",
    "array([1,2,3])\n",
    "```\n",
    "\n",
    "**will result in**\n",
    "```\n",
    "---------------------------------------------------------------------------\n",
    "NameError                                 Traceback (most recent call last)\n",
    "<ipython-input-11-27d393022d9f> in <module>()\n",
    "----> 1 array([1,2,3])\n",
    "\n",
    "NameError: name 'array' is not defined\n",
    "```"
   ]
  },
  {
   "cell_type": "markdown",
   "metadata": {
    "slideshow": {
     "slide_type": "subslide"
    }
   },
   "source": [
    "# The Python standard library\n",
    "Contains all kinds of good stuff. For example:\n",
    "* os: operating system tools\n",
    "* re: regular expressions\n",
    "* collections: useful data structures\n",
    "* multiprocessing: simple parallelization tools\n",
    "* pickle: serialization\n",
    "* json: reading and writing JSON\n",
    "* argparse: command-line argument parsing\n",
    "* functools: functional programming tools\n",
    "* datetime: date and time functions\n",
    "\n",
    "etc. etc. etc."
   ]
  },
  {
   "cell_type": "markdown",
   "metadata": {
    "slideshow": {
     "slide_type": "subslide"
    }
   },
   "source": [
    "## Knowing a language well is a quick path to programming competence\n",
    "* One boring `import` statement can can save you hours of algorithmic brilliance\n",
    "* E.g., regular expressions vs. the `string` module\n",
    "    * Find all occurrences of subject_id: three uppercase letters immediately followed by 3 numbers -- but only if they're not followed by additional numbers\n",
    "    * You can be a master of string parsing, or you can learn some regex basics\n",
    "    \n",
    "[Tal Yarkoni's slides](https://github.com/neurohackweek/python-tips-and-tricks/blob/master/python-tips-and-tricks.ipynb)"
   ]
  },
  {
   "cell_type": "markdown",
   "metadata": {
    "slideshow": {
     "slide_type": "subslide"
    }
   },
   "source": [
    "### Painful and unreliable approach that uses no imports.\n",
    "### Note that we're cheating by using additional information that's in this particular string but may not generalize to others."
   ]
  },
  {
   "cell_type": "code",
   "execution_count": 5,
   "metadata": {
    "execution": {
     "iopub.execute_input": "2021-03-23T16:13:54.475437Z",
     "iopub.status.busy": "2021-03-23T16:13:54.475113Z",
     "iopub.status.idle": "2021-03-23T16:13:54.476501Z",
     "shell.execute_reply": "2021-03-23T16:13:54.476838Z"
    }
   },
   "outputs": [
    {
     "name": "stdout",
     "output_type": "stream",
     "text": [
      "['001', '444']\n"
     ]
    }
   ],
   "source": [
    "target = \"Exp: 20344@L234342; begin{subjects}:AAA001--NaN//YYY843828--75%//GNEFE82--82%//BOO444--45%\"\n",
    "\n",
    "sub_part = target.split(':')[2]\n",
    "subs = sub_part.split('//')\n",
    "keep = []\n",
    "for s in subs:\n",
    "    s = s.split('--')[0]\n",
    "    if len(s) >= 6 and s[:3].isalpha() and s[3:6].isdigit():\n",
    "        if len(s) > 6 and s[7].isdigit():\n",
    "            continue\n",
    "        keep.append(s[3:6])\n",
    "\n",
    "print(keep)"
   ]
  },
  {
   "cell_type": "markdown",
   "metadata": {
    "slideshow": {
     "slide_type": "subslide"
    }
   },
   "source": [
    "### The correct approach--use regular expressions!"
   ]
  },
  {
   "cell_type": "code",
   "execution_count": 6,
   "metadata": {
    "execution": {
     "iopub.execute_input": "2021-03-23T16:13:54.479541Z",
     "iopub.status.busy": "2021-03-23T16:13:54.479200Z",
     "iopub.status.idle": "2021-03-23T16:13:54.480559Z",
     "shell.execute_reply": "2021-03-23T16:13:54.480768Z"
    }
   },
   "outputs": [
    {
     "name": "stdout",
     "output_type": "stream",
     "text": [
      "['001', '444']\n"
     ]
    }
   ],
   "source": [
    "target = \"Exp: 20344@L234342; begin{subjects}:AAA001--NaN//YYY843828--75%//GNEFE82--82%//BOO444--45%\"\n",
    "\n",
    "import re\n",
    "print(re.findall('[A-Z]{3}(\\d{3})[^\\d]*', target))"
   ]
  },
  {
   "cell_type": "markdown",
   "metadata": {
    "slideshow": {
     "slide_type": "slide"
    }
   },
   "source": [
    "# Python packages for (neuro)science"
   ]
  },
  {
   "cell_type": "markdown",
   "metadata": {
    "slideshow": {
     "slide_type": "subslide"
    }
   },
   "source": [
    "## Scientific Python packages\n",
    "- [`NumPy`](http://numpy.org) provides efficient storage and computation for multi-dimensional data arrays.\n",
    "- [`SciPy`](http://scipy.org) contains a wide array of numerical tools such as numerical integration and interpolation.\n",
    "- [`Pandas`](http://pandas.pydata.org) provides a DataFrame object along with a powerful set of methods to manipulate, filter, group, and transform data.\n",
    "- [`Matplotlib`](http://matplotlib.org) provides a useful interface for creation of publication-quality plots and figures.\n",
    "- [`Seaborn`](http://seaborn.pydata.org) even prettier plots.\n",
    "- [`Altair`](https://altair-viz.github.io) other pretty plots.\n",
    "- [`Plotly`](https://plotly.com/python/) interactive pretty plots.\n",
    "- [`Scikit-learn`](http://scikit-learn.org) provides a uniform toolkit for applying common machine learning algorithms to data.\n",
    "- [`Jupyter`](http://jupyter.org) provides an enhanced terminal and an interactive notebook environment that is useful for exploratory analysis, as well as creation of interactive, executable documents.\n",
    "\n",
    "[A Whirlwind Tour of Python. Introduction.](https://github.com/jakevdp/WhirlwindTourOfPython/blob/master/00-Introduction.ipynb)"
   ]
  },
  {
   "cell_type": "markdown",
   "metadata": {
    "slideshow": {
     "slide_type": "subslide"
    }
   },
   "source": [
    "## Neuroimaging Python packages\n",
    "**Python as glue**\n",
    "\n",
    "Reducing the amount of switching you do between languages reduces switching costs!\n",
    "\n",
    "\n",
    "### Analysis\n",
    "\n",
    "* [`Nipype`](http://nipype.readthedocs.io/en/latest/): Neuroimaging in Python: Pipelines and Interfaces\n",
    "* [`Dipy`](https://dipy.org): Diffusion Imaging In Python\n",
    "* [`NiBabel`](http://nipy.org/nibabel/): Access a cacophony of neuroimaging file formats\n",
    "* [`MNE`](http://mne-tools.github.io/mne-python-intro/): M/EEG  analysis"
   ]
  },
  {
   "cell_type": "markdown",
   "metadata": {
    "slideshow": {
     "slide_type": "subslide"
    }
   },
   "source": [
    "### Machine learning\n",
    "\n",
    "* [`Nilearn`](http://nilearn.github.io): Machine learning for Neuro-Imaging in Python\n",
    "* [`PyMVPA`](http://www.pymvpa.org): Multivariate Pattern Analysis in Python\n",
    "\n",
    "### Visualization\n",
    "\n",
    "* [`PySurfer`](http://pysurfer.github.io): visualizing cortical surfaces\n",
    "* [`pycortex`](https://gallantlab.github.io/pycortex/): visualize fMRI or other volumetric neuroimaging data on cortical surfaces\n",
    "* [`niwidgets`](http://nipy.org/niwidgets/): interactive neuroimaging plots\n",
    "\n",
    "\n",
    "### Stimulus delivery & feature extraction\n",
    "\n",
    "* [`PsychoPy`](http://www.psychopy.org): Psychology software in Python \n",
    "* [`pliers`](https://github.com/tyarkoni/pliers): Automated feature extraction"
   ]
  },
  {
   "cell_type": "markdown",
   "metadata": {
    "slideshow": {
     "slide_type": "slide"
    }
   },
   "source": [
    "#  Anaconda distribution\n",
    "* Is a scientific Python distribution\n",
    "* Includes the python standard library\n",
    "* Comes with many scientific packages (numpy, pandas, seaborn...), therefore, we rarely need to install packages\n",
    "* Also can install e.g. R\n",
    "* Anaconda-Navigator"
   ]
  },
  {
   "cell_type": "markdown",
   "metadata": {
    "slideshow": {
     "slide_type": "slide"
    }
   },
   "source": [
    "# Installing packages\n",
    "\n",
    "* Anaconda comes with package managers \n",
    "    * `conda`: python and others (e.g. R)\n",
    "    * `pip`: python only\n",
    "    \n",
    "* Not all pip packages can be installed with conda, and vice versa.\n",
    "* If a package is available via `conda`, I'd suggest using `conda`; else, use `pip`\n",
    " "
   ]
  },
  {
   "cell_type": "markdown",
   "metadata": {
    "slideshow": {
     "slide_type": "subslide"
    }
   },
   "source": [
    "## `pip`\n",
    "* `pip install <package_name>`\n",
    "* `pip install nibabel`\n",
    "\n",
    "\n",
    "## `conda`\n",
    "* `conda install <package_name>`\n",
    "* `conda install scikit-learn`"
   ]
  },
  {
   "cell_type": "markdown",
   "metadata": {
    "slideshow": {
     "slide_type": "subslide"
    }
   },
   "source": [
    "# Exercise\n",
    "\n",
    "* open your terminal or anaconda prompt (windows) and\n",
    "* use `conda` to install the `nibabel` package\n",
    "\n",
    "[Hint](https://www.google.com/search?q=conda+install+nibabel)"
   ]
  }
 ],
 "metadata": {
  "anaconda-cloud": {},
  "celltoolbar": "Slideshow",
  "kernelspec": {
   "display_name": "Python 3",
   "language": "python",
   "name": "python3"
  },
  "language_info": {
   "codemirror_mode": {
    "name": "ipython",
    "version": 3
   },
   "file_extension": ".py",
   "mimetype": "text/x-python",
   "name": "python",
   "nbconvert_exporter": "python",
   "pygments_lexer": "ipython3",
   "version": "3.8.5"
  },
  "toc": {
   "colors": {
    "hover_highlight": "#DAA520",
    "navigate_num": "#000000",
    "navigate_text": "#333333",
    "running_highlight": "#FF0000",
    "selected_highlight": "#FFD700",
    "sidebar_border": "#EEEEEE",
    "wrapper_background": "#FFFFFF"
   },
   "moveMenuLeft": true,
   "nav_menu": {
    "height": "513px",
    "width": "253px"
   },
   "navigate_menu": true,
   "number_sections": false,
   "sideBar": true,
   "threshold": 4,
   "toc_cell": false,
   "toc_section_display": "block",
   "toc_window_display": false,
   "widenNotebook": false
  }
 },
 "nbformat": 4,
 "nbformat_minor": 4
}
