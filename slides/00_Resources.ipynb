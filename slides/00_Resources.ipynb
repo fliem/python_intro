{
 "cells": [
  {
   "cell_type": "markdown",
   "metadata": {
    "slideshow": {
     "slide_type": "slide"
    }
   },
   "source": [
    "# Python resources"
   ]
  },
  {
   "cell_type": "markdown",
   "metadata": {
    "slideshow": {
     "slide_type": "slide"
    }
   },
   "source": [
    "## Courses\n",
    "* Interactive Python courses at [Codecademy](https://www.codecademy.com/catalog/language/python)\n",
    "* [Practical Python Programming](https://dabeaz-course.github.io/practical-python/Notes/Contents.html)\n",
    "* [The Hitchhiker’s Guide to Python](https://docs.python-guide.org)\n",
    "* Allen Downey: [Think Python](http://greenteapress.com/wp/think-python-2e/) (free, online)\n",
    "* [Automate the Boring Stuff with Python](https://automatetheboringstuff.com/#toc)\n",
    "* [scipy-lectures](http://www.scipy-lectures.org/)\n",
    "* Riccardo Murri's detailed [Python for science introduction](https://github.com/riccardomurri/python-for-science-intro)\n",
    "* [Data Carpentry](https://datacarpentry.org)"
   ]
  },
  {
   "cell_type": "markdown",
   "metadata": {
    "slideshow": {
     "slide_type": "slide"
    }
   },
   "source": [
    "## Collections\n",
    "* Kaggle's list of [data science notebooks](https://www.kaggle.com/learn/overview) \n",
    "* [Python for Non-Programmers](https://wiki.python.org/moin/BeginnersGuide/NonProgrammers): an annotated list of tutorials\n",
    "* [A gallery of interesting Jupyter Notebooks](https://github.com/jupyter/jupyter/wiki/A-gallery-of-interesting-Jupyter-Notebooks)\n",
    "* PyData tutorial [videos](https://www.youtube.com/user/PyDataTV)\n",
    "\n",
    "\n",
    "**The packages usually have an example gallery and often provide tutorial notebooks,**\n",
    "e.g. [Nilearn](https://github.com/mrahim/nilearn_tutorials)"
   ]
  },
  {
   "cell_type": "markdown",
   "metadata": {
    "slideshow": {
     "slide_type": "slide"
    }
   },
   "source": [
    "## Books by Jake VanderPlas as online notebooks\n",
    "* [A Whirlwind Tour of Python](https://github.com/jakevdp/WhirlwindTourOfPython)\n",
    "* [Python Data Science Handbook](https://github.com/jakevdp/PythonDataScienceHandbook)\n",
    "\n",
    "\n",
    "## Book by `pandas` creator Wes McKinney\n",
    "[Python for Data Analysis](https://www.oreilly.com/library/view/python-for-data/9781491957653/)"
   ]
  },
  {
   "cell_type": "markdown",
   "metadata": {
    "slideshow": {
     "slide_type": "slide"
    }
   },
   "source": [
    "## Google\n",
    "* `xxxx python notebook`\n",
    "* `how to xxx in python`\n"
   ]
  }
 ],
 "metadata": {
  "anaconda-cloud": {},
  "celltoolbar": "Slideshow",
  "kernelspec": {
   "display_name": "Python 3",
   "language": "python",
   "name": "python3"
  },
  "language_info": {
   "codemirror_mode": {
    "name": "ipython",
    "version": 3
   },
   "file_extension": ".py",
   "mimetype": "text/x-python",
   "name": "python",
   "nbconvert_exporter": "python",
   "pygments_lexer": "ipython3",
   "version": "3.8.3"
  },
  "toc": {
   "colors": {
    "hover_highlight": "#DAA520",
    "navigate_num": "#000000",
    "navigate_text": "#333333",
    "running_highlight": "#FF0000",
    "selected_highlight": "#FFD700",
    "sidebar_border": "#EEEEEE",
    "wrapper_background": "#FFFFFF"
   },
   "moveMenuLeft": true,
   "nav_menu": {
    "height": "513px",
    "width": "253px"
   },
   "navigate_menu": true,
   "number_sections": false,
   "sideBar": true,
   "threshold": 4,
   "toc_cell": false,
   "toc_section_display": "block",
   "toc_window_display": false,
   "widenNotebook": false
  }
 },
 "nbformat": 4,
 "nbformat_minor": 4
}
