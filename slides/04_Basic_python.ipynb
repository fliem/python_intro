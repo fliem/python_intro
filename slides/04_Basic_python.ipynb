{
 "cells": [
  {
   "cell_type": "markdown",
   "metadata": {
    "slideshow": {
     "slide_type": "slide"
    }
   },
   "source": [
    "# Basic Python syntax"
   ]
  },
  {
   "cell_type": "markdown",
   "metadata": {},
   "source": [
    "This is a very short intro. \n",
    "\n",
    "For more details see the notebooks of the first 10 Chapters of \n",
    "[A Whirlwind Tour of Python](https://github.com/jakevdp/WhirlwindTourOfPython)"
   ]
  },
  {
   "cell_type": "markdown",
   "metadata": {
    "slideshow": {
     "slide_type": "subslide"
    }
   },
   "source": [
    "# TOC\n",
    "1. Meta python\n",
    "    1. Comments\n",
    "    1. Getting help\n",
    "    1. Indentation\n",
    "1. Basic variable types\n",
    "    1. Numbers\n",
    "    1. Strings\n",
    "    1. Booleans\n",
    "    1. Lists\n",
    "1. Loops\n",
    "1. Conditionals"
   ]
  },
  {
   "cell_type": "markdown",
   "metadata": {
    "slideshow": {
     "slide_type": "subslide"
    }
   },
   "source": [
    "# Meta python\n",
    "## Comments"
   ]
  },
  {
   "cell_type": "code",
   "execution_count": 1,
   "metadata": {
    "execution": {
     "iopub.execute_input": "2021-03-06T15:35:17.215853Z",
     "iopub.status.busy": "2021-03-06T15:35:17.215036Z",
     "iopub.status.idle": "2021-03-06T15:35:17.217324Z",
     "shell.execute_reply": "2021-03-06T15:35:17.218207Z"
    }
   },
   "outputs": [],
   "source": [
    "# either in own line\n",
    "a = 1"
   ]
  },
  {
   "cell_type": "code",
   "execution_count": 2,
   "metadata": {
    "execution": {
     "iopub.execute_input": "2021-03-06T15:35:17.223062Z",
     "iopub.status.busy": "2021-03-06T15:35:17.222365Z",
     "iopub.status.idle": "2021-03-06T15:35:17.224098Z",
     "shell.execute_reply": "2021-03-06T15:35:17.224793Z"
    }
   },
   "outputs": [],
   "source": [
    "a = 2 # or inline"
   ]
  },
  {
   "cell_type": "markdown",
   "metadata": {
    "slideshow": {
     "slide_type": "subslide"
    }
   },
   "source": [
    "## Getting help\n",
    "* google\n",
    "* stackoverflow"
   ]
  },
  {
   "cell_type": "markdown",
   "metadata": {
    "slideshow": {
     "slide_type": "subslide"
    }
   },
   "source": [
    "### tab-completion\n",
    "`a = \"s\"`\n",
    "\n",
    "type `a.` and press the tab-key"
   ]
  },
  {
   "cell_type": "code",
   "execution_count": 3,
   "metadata": {
    "execution": {
     "iopub.execute_input": "2021-03-06T15:35:17.229867Z",
     "iopub.status.busy": "2021-03-06T15:35:17.229168Z",
     "iopub.status.idle": "2021-03-06T15:35:17.231786Z",
     "shell.execute_reply": "2021-03-06T15:35:17.232461Z"
    },
    "scrolled": true,
    "slideshow": {
     "slide_type": "subslide"
    }
   },
   "outputs": [
    {
     "name": "stdout",
     "output_type": "stream",
     "text": [
      "Help on built-in function len in module builtins:\n",
      "\n",
      "len(obj, /)\n",
      "    Return the number of items in a container.\n",
      "\n"
     ]
    }
   ],
   "source": [
    "help(len)"
   ]
  },
  {
   "cell_type": "markdown",
   "metadata": {
    "slideshow": {
     "slide_type": "subslide"
    }
   },
   "source": [
    "In `ipython` or notebooks"
   ]
  },
  {
   "cell_type": "code",
   "execution_count": 4,
   "metadata": {
    "execution": {
     "iopub.execute_input": "2021-03-06T15:35:17.284062Z",
     "iopub.status.busy": "2021-03-06T15:35:17.278311Z",
     "iopub.status.idle": "2021-03-06T15:35:17.287205Z",
     "shell.execute_reply": "2021-03-06T15:35:17.287577Z"
    }
   },
   "outputs": [],
   "source": [
    "len?"
   ]
  },
  {
   "cell_type": "markdown",
   "metadata": {
    "slideshow": {
     "slide_type": "subslide"
    }
   },
   "source": [
    "## Indentation\n",
    "* In Python indentation/whitespaces (spaces, tabs) carry meaning\n",
    "* E.g., code blocks marking `if - else` block\n",
    "* We'll look into this later but for now watch out"
   ]
  },
  {
   "cell_type": "code",
   "execution_count": 5,
   "metadata": {
    "execution": {
     "iopub.execute_input": "2021-03-06T15:35:17.289408Z",
     "iopub.status.busy": "2021-03-06T15:35:17.288997Z",
     "iopub.status.idle": "2021-03-06T15:35:17.290759Z",
     "shell.execute_reply": "2021-03-06T15:35:17.291122Z"
    },
    "slideshow": {
     "slide_type": "fragment"
    }
   },
   "outputs": [
    {
     "name": "stdout",
     "output_type": "stream",
     "text": [
      "1\n"
     ]
    }
   ],
   "source": [
    "a = 1\n",
    "print(a)"
   ]
  },
  {
   "cell_type": "markdown",
   "metadata": {
    "slideshow": {
     "slide_type": "fragment"
    }
   },
   "source": [
    "running \n",
    "```python\n",
    "a = 1\n",
    "    print(a)\n",
    "```\n",
    "Will give\n",
    "```python\n",
    " File \"<ipython-input-223-ab1ad67c65da>\", line 2\n",
    "    print(a)\n",
    "    ^\n",
    "IndentationError: unexpected indent\n",
    "\n",
    "```"
   ]
  },
  {
   "cell_type": "markdown",
   "metadata": {
    "slideshow": {
     "slide_type": "subslide"
    }
   },
   "source": [
    "As we have seen whitespaces carry meaning.\n",
    "However, this is only relevant for the beginning of a command. \n",
    "\n",
    "We can break lines within a command:"
   ]
  },
  {
   "cell_type": "code",
   "execution_count": 6,
   "metadata": {
    "execution": {
     "iopub.execute_input": "2021-03-06T15:35:17.293218Z",
     "iopub.status.busy": "2021-03-06T15:35:17.292868Z",
     "iopub.status.idle": "2021-03-06T15:35:17.294513Z",
     "shell.execute_reply": "2021-03-06T15:35:17.294159Z"
    },
    "slideshow": {
     "slide_type": "fragment"
    }
   },
   "outputs": [
    {
     "name": "stdout",
     "output_type": "stream",
     "text": [
      "hello beautiful nerds\n"
     ]
    }
   ],
   "source": [
    "print(\"hello\", \"beautiful\", \"nerds\")"
   ]
  },
  {
   "cell_type": "markdown",
   "metadata": {
    "slideshow": {
     "slide_type": "fragment"
    }
   },
   "source": [
    "And while it is not pretty, this works:"
   ]
  },
  {
   "cell_type": "code",
   "execution_count": 7,
   "metadata": {
    "execution": {
     "iopub.execute_input": "2021-03-06T15:35:17.296490Z",
     "iopub.status.busy": "2021-03-06T15:35:17.296093Z",
     "iopub.status.idle": "2021-03-06T15:35:17.297376Z",
     "shell.execute_reply": "2021-03-06T15:35:17.297738Z"
    }
   },
   "outputs": [
    {
     "name": "stdout",
     "output_type": "stream",
     "text": [
      "hello beautiful nerds\n"
     ]
    }
   ],
   "source": [
    "print(\"hello\", \n",
    " \"beautiful\", \n",
    "    \"nerds\")"
   ]
  },
  {
   "cell_type": "markdown",
   "metadata": {
    "slideshow": {
     "slide_type": "slide"
    }
   },
   "source": [
    "# Basic variable types"
   ]
  },
  {
   "cell_type": "markdown",
   "metadata": {
    "slideshow": {
     "slide_type": "subslide"
    }
   },
   "source": [
    "## Numbers"
   ]
  },
  {
   "cell_type": "code",
   "execution_count": 8,
   "metadata": {
    "execution": {
     "iopub.execute_input": "2021-03-06T15:35:17.299893Z",
     "iopub.status.busy": "2021-03-06T15:35:17.299570Z",
     "iopub.status.idle": "2021-03-06T15:35:17.300940Z",
     "shell.execute_reply": "2021-03-06T15:35:17.301278Z"
    }
   },
   "outputs": [
    {
     "name": "stdout",
     "output_type": "stream",
     "text": [
      "3\n",
      "3.3\n"
     ]
    }
   ],
   "source": [
    "n1 = 3\n",
    "n2 = 3.3\n",
    "print(n1)\n",
    "print(n2)"
   ]
  },
  {
   "cell_type": "code",
   "execution_count": 9,
   "metadata": {
    "execution": {
     "iopub.execute_input": "2021-03-06T15:35:17.303213Z",
     "iopub.status.busy": "2021-03-06T15:35:17.302879Z",
     "iopub.status.idle": "2021-03-06T15:35:17.304293Z",
     "shell.execute_reply": "2021-03-06T15:35:17.304525Z"
    },
    "slideshow": {
     "slide_type": "subslide"
    }
   },
   "outputs": [
    {
     "name": "stdout",
     "output_type": "stream",
     "text": [
      "6.3\n"
     ]
    }
   ],
   "source": [
    "n1 = 3\n",
    "n2 = 3.3\n",
    "n = n1 + n2\n",
    "print(n)"
   ]
  },
  {
   "cell_type": "markdown",
   "metadata": {
    "slideshow": {
     "slide_type": "subslide"
    }
   },
   "source": [
    "## Strings\n",
    "### Defining strings"
   ]
  },
  {
   "cell_type": "code",
   "execution_count": 10,
   "metadata": {
    "execution": {
     "iopub.execute_input": "2021-03-06T15:35:17.306467Z",
     "iopub.status.busy": "2021-03-06T15:35:17.306138Z",
     "iopub.status.idle": "2021-03-06T15:35:17.307364Z",
     "shell.execute_reply": "2021-03-06T15:35:17.307689Z"
    }
   },
   "outputs": [
    {
     "name": "stdout",
     "output_type": "stream",
     "text": [
      "Hello\n"
     ]
    }
   ],
   "source": [
    "empty_string = \"\"\n",
    "\n",
    "s1 = \"Hello\"\n",
    "print(s1)"
   ]
  },
  {
   "cell_type": "code",
   "execution_count": 11,
   "metadata": {
    "execution": {
     "iopub.execute_input": "2021-03-06T15:35:17.309490Z",
     "iopub.status.busy": "2021-03-06T15:35:17.309146Z",
     "iopub.status.idle": "2021-03-06T15:35:17.310516Z",
     "shell.execute_reply": "2021-03-06T15:35:17.310744Z"
    }
   },
   "outputs": [
    {
     "name": "stdout",
     "output_type": "stream",
     "text": [
      "you\n"
     ]
    }
   ],
   "source": [
    "s2 = 'you' # '' and \"\" can be used\n",
    "print(s2)"
   ]
  },
  {
   "cell_type": "code",
   "execution_count": 12,
   "metadata": {
    "execution": {
     "iopub.execute_input": "2021-03-06T15:35:17.312763Z",
     "iopub.status.busy": "2021-03-06T15:35:17.312442Z",
     "iopub.status.idle": "2021-03-06T15:35:17.313741Z",
     "shell.execute_reply": "2021-03-06T15:35:17.314072Z"
    }
   },
   "outputs": [
    {
     "name": "stdout",
     "output_type": "stream",
     "text": [
      "multi\n",
      "line\n",
      "strings\n"
     ]
    }
   ],
   "source": [
    "s3 = \"\"\"multi\n",
    "line\n",
    "strings\"\"\"\n",
    "print(s3)"
   ]
  },
  {
   "cell_type": "markdown",
   "metadata": {
    "slideshow": {
     "slide_type": "subslide"
    }
   },
   "source": [
    "### Combining strings"
   ]
  },
  {
   "cell_type": "code",
   "execution_count": 13,
   "metadata": {
    "execution": {
     "iopub.execute_input": "2021-03-06T15:35:17.316065Z",
     "iopub.status.busy": "2021-03-06T15:35:17.315748Z",
     "iopub.status.idle": "2021-03-06T15:35:17.317016Z",
     "shell.execute_reply": "2021-03-06T15:35:17.317353Z"
    }
   },
   "outputs": [
    {
     "name": "stdout",
     "output_type": "stream",
     "text": [
      "Helloyou\n"
     ]
    }
   ],
   "source": [
    "s1 = \"Hello\"\n",
    "s2 = 'you'\n",
    "s = s1 + s2\n",
    "print(s)"
   ]
  },
  {
   "cell_type": "code",
   "execution_count": 14,
   "metadata": {
    "execution": {
     "iopub.execute_input": "2021-03-06T15:35:17.319291Z",
     "iopub.status.busy": "2021-03-06T15:35:17.318966Z",
     "iopub.status.idle": "2021-03-06T15:35:17.320191Z",
     "shell.execute_reply": "2021-03-06T15:35:17.320517Z"
    },
    "slideshow": {
     "slide_type": "fragment"
    }
   },
   "outputs": [
    {
     "name": "stdout",
     "output_type": "stream",
     "text": [
      "Hello you!\n"
     ]
    }
   ],
   "source": [
    "s = s1 + \" \" + s2 + \"!\"\n",
    "print(s)"
   ]
  },
  {
   "cell_type": "markdown",
   "metadata": {
    "slideshow": {
     "slide_type": "subslide"
    }
   },
   "source": [
    "### Formatting strings\n",
    "\n",
    "* We often want to create a string template that will be filled with the value of a variable at runtime \n",
    "    * print something within `for` loop\n",
    "    * filename in loop\n",
    "* This can elegantly be done with f-strings"
   ]
  },
  {
   "cell_type": "code",
   "execution_count": 15,
   "metadata": {
    "execution": {
     "iopub.execute_input": "2021-03-06T15:35:17.322536Z",
     "iopub.status.busy": "2021-03-06T15:35:17.322200Z",
     "iopub.status.idle": "2021-03-06T15:35:17.323521Z",
     "shell.execute_reply": "2021-03-06T15:35:17.323755Z"
    },
    "slideshow": {
     "slide_type": "subslide"
    }
   },
   "outputs": [
    {
     "name": "stdout",
     "output_type": "stream",
     "text": [
      "data_s1.txt\n"
     ]
    }
   ],
   "source": [
    "# not that elegant\n",
    "subject = \"s1\"\n",
    "file = \"data_\" + subject + \".txt\"\n",
    "print(file)"
   ]
  },
  {
   "cell_type": "code",
   "execution_count": 16,
   "metadata": {
    "execution": {
     "iopub.execute_input": "2021-03-06T15:35:17.325672Z",
     "iopub.status.busy": "2021-03-06T15:35:17.325343Z",
     "iopub.status.idle": "2021-03-06T15:35:17.326681Z",
     "shell.execute_reply": "2021-03-06T15:35:17.326897Z"
    },
    "slideshow": {
     "slide_type": "fragment"
    }
   },
   "outputs": [
    {
     "name": "stdout",
     "output_type": "stream",
     "text": [
      "data_s1.txt\n"
     ]
    }
   ],
   "source": [
    "# elegant\n",
    "subject = \"s1\"\n",
    "file = f\"data_{subject}.txt\"\n",
    "print(file)"
   ]
  },
  {
   "cell_type": "markdown",
   "metadata": {
    "slideshow": {
     "slide_type": "subslide"
    }
   },
   "source": [
    "### Booleans"
   ]
  },
  {
   "cell_type": "code",
   "execution_count": 17,
   "metadata": {
    "execution": {
     "iopub.execute_input": "2021-03-06T15:35:17.328699Z",
     "iopub.status.busy": "2021-03-06T15:35:17.328393Z",
     "iopub.status.idle": "2021-03-06T15:35:17.329604Z",
     "shell.execute_reply": "2021-03-06T15:35:17.329824Z"
    }
   },
   "outputs": [],
   "source": [
    "b = True\n",
    "b = False"
   ]
  },
  {
   "cell_type": "markdown",
   "metadata": {
    "slideshow": {
     "slide_type": "subslide"
    }
   },
   "source": [
    "## Lists\n",
    "* Collection of objects\n",
    "* e.g., numbers, strings\n",
    "* but also lists, dicts, functions"
   ]
  },
  {
   "cell_type": "markdown",
   "metadata": {
    "slideshow": {
     "slide_type": "subslide"
    }
   },
   "source": [
    "### List definition"
   ]
  },
  {
   "cell_type": "code",
   "execution_count": 18,
   "metadata": {
    "execution": {
     "iopub.execute_input": "2021-03-06T15:35:17.331899Z",
     "iopub.status.busy": "2021-03-06T15:35:17.331586Z",
     "iopub.status.idle": "2021-03-06T15:35:17.332988Z",
     "shell.execute_reply": "2021-03-06T15:35:17.333307Z"
    },
    "slideshow": {
     "slide_type": "-"
    }
   },
   "outputs": [
    {
     "name": "stdout",
     "output_type": "stream",
     "text": [
      "[1, 2, 3]\n"
     ]
    }
   ],
   "source": [
    "empty_list = []\n",
    "empty_list = list()\n",
    "\n",
    "l = [1,2,3]\n",
    "print(l)"
   ]
  },
  {
   "cell_type": "markdown",
   "metadata": {},
   "source": [
    "hint: don't define a list variable called `list`"
   ]
  },
  {
   "cell_type": "markdown",
   "metadata": {
    "slideshow": {
     "slide_type": "subslide"
    }
   },
   "source": [
    "### Lists can contain all kinds of objects"
   ]
  },
  {
   "cell_type": "code",
   "execution_count": 19,
   "metadata": {
    "execution": {
     "iopub.execute_input": "2021-03-06T15:35:17.335252Z",
     "iopub.status.busy": "2021-03-06T15:35:17.334930Z",
     "iopub.status.idle": "2021-03-06T15:35:17.336098Z",
     "shell.execute_reply": "2021-03-06T15:35:17.336429Z"
    },
    "slideshow": {
     "slide_type": "-"
    }
   },
   "outputs": [
    {
     "name": "stdout",
     "output_type": "stream",
     "text": [
      "[1, 2, 'hello']\n"
     ]
    }
   ],
   "source": [
    "l = [1, 2, \"hello\"]\n",
    "print(l)"
   ]
  },
  {
   "cell_type": "code",
   "execution_count": 20,
   "metadata": {
    "execution": {
     "iopub.execute_input": "2021-03-06T15:35:17.338378Z",
     "iopub.status.busy": "2021-03-06T15:35:17.338062Z",
     "iopub.status.idle": "2021-03-06T15:35:17.339276Z",
     "shell.execute_reply": "2021-03-06T15:35:17.339598Z"
    },
    "slideshow": {
     "slide_type": "fragment"
    }
   },
   "outputs": [
    {
     "name": "stdout",
     "output_type": "stream",
     "text": [
      "[1, 2, [10, 11]]\n"
     ]
    }
   ],
   "source": [
    "l = [1, 2, [10, 11]]\n",
    "print(l)"
   ]
  },
  {
   "cell_type": "markdown",
   "metadata": {
    "slideshow": {
     "slide_type": "subslide"
    }
   },
   "source": [
    "### Appending to list"
   ]
  },
  {
   "cell_type": "code",
   "execution_count": 21,
   "metadata": {
    "execution": {
     "iopub.execute_input": "2021-03-06T15:35:17.341609Z",
     "iopub.status.busy": "2021-03-06T15:35:17.341298Z",
     "iopub.status.idle": "2021-03-06T15:35:17.342534Z",
     "shell.execute_reply": "2021-03-06T15:35:17.342880Z"
    }
   },
   "outputs": [
    {
     "name": "stdout",
     "output_type": "stream",
     "text": [
      "[1, 2, 3, 10]\n"
     ]
    }
   ],
   "source": [
    "l = [1, 2, 3]\n",
    "l.append(10)\n",
    "print(l)"
   ]
  },
  {
   "cell_type": "markdown",
   "metadata": {
    "slideshow": {
     "slide_type": "subslide"
    }
   },
   "source": [
    "### Check variable type"
   ]
  },
  {
   "cell_type": "code",
   "execution_count": 22,
   "metadata": {
    "execution": {
     "iopub.execute_input": "2021-03-06T15:35:17.347542Z",
     "iopub.status.busy": "2021-03-06T15:35:17.347205Z",
     "iopub.status.idle": "2021-03-06T15:35:17.348828Z",
     "shell.execute_reply": "2021-03-06T15:35:17.349052Z"
    }
   },
   "outputs": [
    {
     "data": {
      "text/plain": [
       "str"
      ]
     },
     "execution_count": 1,
     "metadata": {},
     "output_type": "execute_result"
    }
   ],
   "source": [
    "s = \"\"\n",
    "type(s)"
   ]
  },
  {
   "cell_type": "code",
   "execution_count": 23,
   "metadata": {
    "execution": {
     "iopub.execute_input": "2021-03-06T15:35:17.350974Z",
     "iopub.status.busy": "2021-03-06T15:35:17.350622Z",
     "iopub.status.idle": "2021-03-06T15:35:17.352099Z",
     "shell.execute_reply": "2021-03-06T15:35:17.352427Z"
    }
   },
   "outputs": [
    {
     "data": {
      "text/plain": [
       "list"
      ]
     },
     "execution_count": 1,
     "metadata": {},
     "output_type": "execute_result"
    }
   ],
   "source": [
    "l = []\n",
    "type(l)"
   ]
  },
  {
   "cell_type": "markdown",
   "metadata": {
    "slideshow": {
     "slide_type": "subslide"
    }
   },
   "source": [
    "### Summary\n",
    "#### Built-In Types: Simple Values   \n",
    "| Type        | Example        | Description                                                  |\n",
    "|-------------|----------------|--------------------------------------------------------------|\n",
    "| ``int``     | ``x = 1``      | integers (i.e., whole numbers)                               |\n",
    "| ``float``   | ``x = 1.0``    | floating-point numbers (i.e., real numbers)                  |\n",
    "| ``complex`` | ``x = 1 + 2j`` | Complex numbers (i.e., numbers with real and imaginary part) |\n",
    "| ``bool``    | ``x = True``   | Boolean: True/False values                                   |\n",
    "| ``str``     | ``x = 'abc'``  | String: characters or text                                   |\n",
    "| ``NoneType``| ``x = None``   | Special object indicating nulls                              |\n",
    "\n",
    "https://github.com/jakevdp/WhirlwindTourOfPython/"
   ]
  },
  {
   "cell_type": "markdown",
   "metadata": {
    "slideshow": {
     "slide_type": "slide"
    }
   },
   "source": [
    "# Exercise variables\n",
    "\n",
    "* In VS Code, create a new script or notebook\n",
    "* Create a couple of different variables (strings, numbers, lists, dicts) with any content you like\n",
    "* Create a list that contains all the variables\n",
    "* Print the entire list"
   ]
  },
  {
   "cell_type": "markdown",
   "metadata": {
    "slideshow": {
     "slide_type": "slide"
    }
   },
   "source": [
    "# `for` Loops\n",
    "\n",
    "* Loops are a way to repeatedly execute some code statement. \n",
    "* E.g., if we'd like to print each of the items in a list, we can use a for loop:"
   ]
  },
  {
   "cell_type": "code",
   "execution_count": 24,
   "metadata": {
    "execution": {
     "iopub.execute_input": "2021-03-06T15:35:17.354600Z",
     "iopub.status.busy": "2021-03-06T15:35:17.354277Z",
     "iopub.status.idle": "2021-03-06T15:35:17.355402Z",
     "shell.execute_reply": "2021-03-06T15:35:17.355740Z"
    }
   },
   "outputs": [
    {
     "name": "stdout",
     "output_type": "stream",
     "text": [
      "I like apples\n",
      "I like oranges\n",
      "I like pears\n",
      "the end of the loop is followed by code at the outer indentation level\n"
     ]
    }
   ],
   "source": [
    "fruit_list = [\"apples\", \"oranges\", \"pears\"]\n",
    "for fruit in fruit_list:\n",
    "    print(f\"I like {fruit}\")\n",
    "print(\"the end of the loop is followed by code at the outer indentation level\")"
   ]
  },
  {
   "cell_type": "markdown",
   "metadata": {
    "slideshow": {
     "slide_type": "subslide"
    }
   },
   "source": [
    "## `for` loops on dicts"
   ]
  },
  {
   "cell_type": "code",
   "execution_count": 25,
   "metadata": {
    "execution": {
     "iopub.execute_input": "2021-03-06T15:35:17.357778Z",
     "iopub.status.busy": "2021-03-06T15:35:17.357462Z",
     "iopub.status.idle": "2021-03-06T15:35:17.358775Z",
     "shell.execute_reply": "2021-03-06T15:35:17.359107Z"
    }
   },
   "outputs": [
    {
     "name": "stdout",
     "output_type": "stream",
     "text": [
      "I have 10 bananas\n",
      "I have 3 apples\n"
     ]
    }
   ],
   "source": [
    "fruits = {\"bananas\": 10, \"apples\": 3}\n",
    "for fruit in fruits:\n",
    "    print(f\"I have {fruits[fruit]} {fruit}\")"
   ]
  },
  {
   "cell_type": "code",
   "execution_count": 26,
   "metadata": {
    "execution": {
     "iopub.execute_input": "2021-03-06T15:35:17.361097Z",
     "iopub.status.busy": "2021-03-06T15:35:17.360769Z",
     "iopub.status.idle": "2021-03-06T15:35:17.361924Z",
     "shell.execute_reply": "2021-03-06T15:35:17.362249Z"
    },
    "slideshow": {
     "slide_type": "fragment"
    }
   },
   "outputs": [
    {
     "name": "stdout",
     "output_type": "stream",
     "text": [
      "I have 10 bananas\n",
      "I have 3 apples\n"
     ]
    }
   ],
   "source": [
    "# dict.items() returns keys, values\n",
    "for fruit,stock in fruits.items(): \n",
    "    print(f\"I have {stock} {fruit}\")"
   ]
  },
  {
   "cell_type": "markdown",
   "metadata": {
    "slideshow": {
     "slide_type": "slide"
    }
   },
   "source": [
    "# Conditional Statements: ``if``-``elif``-``else``:\n",
    "Conditional statements, often referred to as *if-then* statements, allow us to execute certain pieces of code depending on some Boolean condition."
   ]
  },
  {
   "cell_type": "code",
   "execution_count": 27,
   "metadata": {
    "execution": {
     "iopub.execute_input": "2021-03-06T15:35:17.364731Z",
     "iopub.status.busy": "2021-03-06T15:35:17.364414Z",
     "iopub.status.idle": "2021-03-06T15:35:17.365661Z",
     "shell.execute_reply": "2021-03-06T15:35:17.365990Z"
    }
   },
   "outputs": [
    {
     "name": "stdout",
     "output_type": "stream",
     "text": [
      "-15 is negative\n"
     ]
    }
   ],
   "source": [
    "x = -15\n",
    "\n",
    "if x == 0:\n",
    "    print(x, \"is zero\")\n",
    "elif x > 0:\n",
    "    print(x, \"is positive\")\n",
    "elif x < 0:\n",
    "    print(x, \"is negative\")\n",
    "else:\n",
    "    print(x, \"is unlike anything I've ever seen...\")"
   ]
  },
  {
   "cell_type": "markdown",
   "metadata": {
    "slideshow": {
     "slide_type": "subslide"
    }
   },
   "source": [
    "`elif and else` are not required"
   ]
  },
  {
   "cell_type": "code",
   "execution_count": 28,
   "metadata": {
    "execution": {
     "iopub.execute_input": "2021-03-06T15:35:17.368063Z",
     "iopub.status.busy": "2021-03-06T15:35:17.367733Z",
     "iopub.status.idle": "2021-03-06T15:35:17.368796Z",
     "shell.execute_reply": "2021-03-06T15:35:17.369123Z"
    },
    "slideshow": {
     "slide_type": "subslide"
    }
   },
   "outputs": [
    {
     "name": "stdout",
     "output_type": "stream",
     "text": [
      "0 is zero\n"
     ]
    }
   ],
   "source": [
    "x = 0\n",
    "if x == 0:\n",
    "    print(x, \"is zero\")"
   ]
  },
  {
   "cell_type": "code",
   "execution_count": 29,
   "metadata": {
    "execution": {
     "iopub.execute_input": "2021-03-06T15:35:17.371078Z",
     "iopub.status.busy": "2021-03-06T15:35:17.370764Z",
     "iopub.status.idle": "2021-03-06T15:35:17.371931Z",
     "shell.execute_reply": "2021-03-06T15:35:17.372253Z"
    }
   },
   "outputs": [],
   "source": [
    "x = -15\n",
    "if x == 0:\n",
    "    print(x, \"is zero\")"
   ]
  },
  {
   "cell_type": "markdown",
   "metadata": {},
   "source": [
    "Note that nothing happens here!"
   ]
  },
  {
   "cell_type": "markdown",
   "metadata": {
    "slideshow": {
     "slide_type": "subslide"
    }
   },
   "source": [
    "### Indentation"
   ]
  },
  {
   "cell_type": "code",
   "execution_count": 30,
   "metadata": {
    "execution": {
     "iopub.execute_input": "2021-03-06T15:35:17.374386Z",
     "iopub.status.busy": "2021-03-06T15:35:17.374074Z",
     "iopub.status.idle": "2021-03-06T15:35:17.375217Z",
     "shell.execute_reply": "2021-03-06T15:35:17.375544Z"
    },
    "scrolled": true
   },
   "outputs": [
    {
     "name": "stdout",
     "output_type": "stream",
     "text": [
      "0 is zero\n",
      "Now what?\n"
     ]
    }
   ],
   "source": [
    "x = 0\n",
    "if x == 0:\n",
    "    print(x, \"is zero\")\n",
    "    print(\"Now what?\")"
   ]
  },
  {
   "cell_type": "markdown",
   "metadata": {
    "slideshow": {
     "slide_type": "fragment"
    }
   },
   "source": [
    "**Running**\n",
    "```python\n",
    "x = 0\n",
    "if x == 0:\n",
    "    print(x, \"is zero\")\n",
    "  print(\"Now what?\")\n",
    "```\n",
    "\n",
    "**will result in**\n",
    "```python\n",
    "  File \"<tokenize>\", line 4\n",
    "    print(\"Now what?\")\n",
    "    ^\n",
    "IndentationError: unindent does not match any outer indentation level\n",
    "```"
   ]
  },
  {
   "cell_type": "markdown",
   "metadata": {
    "slideshow": {
     "slide_type": "slide"
    }
   },
   "source": [
    "# --> `exercises/toy_names.ipynb `"
   ]
  },
  {
   "cell_type": "markdown",
   "metadata": {
    "slideshow": {
     "slide_type": "slide"
    }
   },
   "source": [
    "# Appendix"
   ]
  },
  {
   "cell_type": "markdown",
   "metadata": {
    "slideshow": {
     "slide_type": "slide"
    }
   },
   "source": [
    "# Sequence type operations\n",
    "https://docs.python.org/3.6/library/stdtypes.html#typesseq\n",
    "\n",
    "* Lists and strings are sequence types (iterables)\n",
    "* The following operations work on lists and strings\n",
    "\n",
    "**Operation**|**Result**\n",
    "-----|-----\n",
    "|\n",
    "`x in s`|True if an item of s is equal to x, else False\n",
    "`x not in s`|False if an item of s is equal to x, else True\n",
    "`s + t`|the concatenation of s and t\n",
    "`s * n` or `n * s`|equivalent to adding s to itself n times\n",
    "|\n",
    "`len(s)`|length of s\n",
    "`min(s)`|smallest item of s\n",
    "`max(s)`|largest item of s\n"
   ]
  },
  {
   "cell_type": "markdown",
   "metadata": {
    "slideshow": {
     "slide_type": "subslide"
    }
   },
   "source": [
    "## `in`"
   ]
  },
  {
   "cell_type": "code",
   "execution_count": 31,
   "metadata": {
    "execution": {
     "iopub.execute_input": "2021-03-06T15:35:17.377674Z",
     "iopub.status.busy": "2021-03-06T15:35:17.377331Z",
     "iopub.status.idle": "2021-03-06T15:35:17.378780Z",
     "shell.execute_reply": "2021-03-06T15:35:17.379108Z"
    }
   },
   "outputs": [
    {
     "data": {
      "text/plain": [
       "True"
      ]
     },
     "execution_count": 1,
     "metadata": {},
     "output_type": "execute_result"
    }
   ],
   "source": [
    "\"o\" in \"hello\""
   ]
  },
  {
   "cell_type": "code",
   "execution_count": 32,
   "metadata": {
    "execution": {
     "iopub.execute_input": "2021-03-06T15:35:17.380944Z",
     "iopub.status.busy": "2021-03-06T15:35:17.380614Z",
     "iopub.status.idle": "2021-03-06T15:35:17.382010Z",
     "shell.execute_reply": "2021-03-06T15:35:17.382342Z"
    }
   },
   "outputs": [
    {
     "data": {
      "text/plain": [
       "False"
      ]
     },
     "execution_count": 1,
     "metadata": {},
     "output_type": "execute_result"
    }
   ],
   "source": [
    "\"a\" in \"hello\""
   ]
  },
  {
   "cell_type": "code",
   "execution_count": 33,
   "metadata": {
    "execution": {
     "iopub.execute_input": "2021-03-06T15:35:17.384329Z",
     "iopub.status.busy": "2021-03-06T15:35:17.383961Z",
     "iopub.status.idle": "2021-03-06T15:35:17.385373Z",
     "shell.execute_reply": "2021-03-06T15:35:17.385704Z"
    },
    "slideshow": {
     "slide_type": "subslide"
    }
   },
   "outputs": [
    {
     "data": {
      "text/plain": [
       "True"
      ]
     },
     "execution_count": 1,
     "metadata": {},
     "output_type": "execute_result"
    }
   ],
   "source": [
    "\"hello\" in [\"hello\", \"you\"]"
   ]
  },
  {
   "cell_type": "code",
   "execution_count": 34,
   "metadata": {
    "execution": {
     "iopub.execute_input": "2021-03-06T15:35:17.387684Z",
     "iopub.status.busy": "2021-03-06T15:35:17.387338Z",
     "iopub.status.idle": "2021-03-06T15:35:17.388723Z",
     "shell.execute_reply": "2021-03-06T15:35:17.389050Z"
    }
   },
   "outputs": [
    {
     "data": {
      "text/plain": [
       "False"
      ]
     },
     "execution_count": 1,
     "metadata": {},
     "output_type": "execute_result"
    }
   ],
   "source": [
    "\"me\" in [\"hello\", \"you\"]"
   ]
  },
  {
   "cell_type": "markdown",
   "metadata": {
    "slideshow": {
     "slide_type": "subslide"
    }
   },
   "source": [
    "## `*`"
   ]
  },
  {
   "cell_type": "markdown",
   "metadata": {},
   "source": [
    "## Multiply strings"
   ]
  },
  {
   "cell_type": "code",
   "execution_count": 35,
   "metadata": {
    "execution": {
     "iopub.execute_input": "2021-03-06T15:35:17.391047Z",
     "iopub.status.busy": "2021-03-06T15:35:17.390705Z",
     "iopub.status.idle": "2021-03-06T15:35:17.391931Z",
     "shell.execute_reply": "2021-03-06T15:35:17.392259Z"
    }
   },
   "outputs": [
    {
     "name": "stdout",
     "output_type": "stream",
     "text": [
      "hahaha\n"
     ]
    }
   ],
   "source": [
    "a = \"ha\"\n",
    "print(a * 3)"
   ]
  },
  {
   "cell_type": "code",
   "execution_count": 36,
   "metadata": {
    "execution": {
     "iopub.execute_input": "2021-03-06T15:35:17.394104Z",
     "iopub.status.busy": "2021-03-06T15:35:17.393757Z",
     "iopub.status.idle": "2021-03-06T15:35:17.395169Z",
     "shell.execute_reply": "2021-03-06T15:35:17.395489Z"
    }
   },
   "outputs": [
    {
     "data": {
      "text/plain": [
       "'hahaha'"
      ]
     },
     "execution_count": 1,
     "metadata": {},
     "output_type": "execute_result"
    }
   ],
   "source": [
    "\"ha\" * 3"
   ]
  },
  {
   "cell_type": "markdown",
   "metadata": {
    "slideshow": {
     "slide_type": "subslide"
    }
   },
   "source": [
    "## Multiply lists"
   ]
  },
  {
   "cell_type": "code",
   "execution_count": 37,
   "metadata": {
    "execution": {
     "iopub.execute_input": "2021-03-06T15:35:17.397540Z",
     "iopub.status.busy": "2021-03-06T15:35:17.397212Z",
     "iopub.status.idle": "2021-03-06T15:35:17.398688Z",
     "shell.execute_reply": "2021-03-06T15:35:17.399011Z"
    },
    "slideshow": {
     "slide_type": "-"
    }
   },
   "outputs": [
    {
     "data": {
      "text/plain": [
       "[1, 2, 3, 1, 2, 3, 1, 2, 3]"
      ]
     },
     "execution_count": 1,
     "metadata": {},
     "output_type": "execute_result"
    }
   ],
   "source": [
    "[1, 2 , 3] * 3"
   ]
  },
  {
   "cell_type": "markdown",
   "metadata": {},
   "source": [
    "To perform matrix operations see the **numpy package**"
   ]
  },
  {
   "cell_type": "markdown",
   "metadata": {
    "slideshow": {
     "slide_type": "subslide"
    }
   },
   "source": [
    "## Sequence type operations: Indexing\n",
    "\n",
    "**In Python indexing is 0-based**\n",
    "\n",
    "`s[0]` will give you the first item\n",
    "\n",
    "**Operation**|**Result**\n",
    "-----|-----\n",
    "`s[i]`|ith item of s, origin 0\n",
    "`s[i:j]`|slice of s from i to j\n",
    "`s[i:j:k]`|slice of s from i to j with step k\n"
   ]
  },
  {
   "cell_type": "code",
   "execution_count": 38,
   "metadata": {
    "execution": {
     "iopub.execute_input": "2021-03-06T15:35:17.401238Z",
     "iopub.status.busy": "2021-03-06T15:35:17.400915Z",
     "iopub.status.idle": "2021-03-06T15:35:17.401994Z",
     "shell.execute_reply": "2021-03-06T15:35:17.402314Z"
    },
    "slideshow": {
     "slide_type": "subslide"
    }
   },
   "outputs": [
    {
     "name": "stdout",
     "output_type": "stream",
     "text": [
      "1\n",
      "[2, 'haha']\n",
      "[2, 'haha']\n"
     ]
    }
   ],
   "source": [
    "l = [1, 2, \"haha\"]\n",
    "print(l[0])\n",
    "print(l[1:3])\n",
    "print(l[1:])"
   ]
  },
  {
   "cell_type": "markdown",
   "metadata": {
    "slideshow": {
     "slide_type": "subslide"
    }
   },
   "source": [
    "## Formatting strings: numbers"
   ]
  },
  {
   "cell_type": "code",
   "execution_count": 39,
   "metadata": {
    "execution": {
     "iopub.execute_input": "2021-03-06T15:35:17.405005Z",
     "iopub.status.busy": "2021-03-06T15:35:17.404677Z",
     "iopub.status.idle": "2021-03-06T15:35:17.405955Z",
     "shell.execute_reply": "2021-03-06T15:35:17.406282Z"
    }
   },
   "outputs": [
    {
     "name": "stdout",
     "output_type": "stream",
     "text": [
      "the number is 3.157, \n",
      " but I don't need that much precisions, so 3.16 \n",
      "or I need even more: 3.15700\n"
     ]
    }
   ],
   "source": [
    "n= 3.157\n",
    "print(\"the number is {n1:.3f}, \\n \\\n",
    "but I don't need that much precisions, so {n2:.2f} \\n\\\n",
    "or I need even more: {n3:.5f}\".format(n1=n, n2=n, n3=n))"
   ]
  },
  {
   "cell_type": "code",
   "execution_count": 40,
   "metadata": {
    "execution": {
     "iopub.execute_input": "2021-03-06T15:35:17.408200Z",
     "iopub.status.busy": "2021-03-06T15:35:17.407884Z",
     "iopub.status.idle": "2021-03-06T15:35:17.409039Z",
     "shell.execute_reply": "2021-03-06T15:35:17.409354Z"
    }
   },
   "outputs": [
    {
     "name": "stdout",
     "output_type": "stream",
     "text": [
      "the number is 3.157, \n",
      "\n",
      "but I don't need that much precisions, so 3.16 \n",
      "\n",
      "or I need even more: 3.15700\n"
     ]
    }
   ],
   "source": [
    "n= 3.157\n",
    "print(f\"\"\"the number is {n:.3f}, \\n\n",
    "but I don't need that much precisions, so {n:.2f} \\n\n",
    "or I need even more: {n:.5f}\"\"\")"
   ]
  },
  {
   "cell_type": "code",
   "execution_count": 41,
   "metadata": {
    "execution": {
     "iopub.execute_input": "2021-03-06T15:35:17.411244Z",
     "iopub.status.busy": "2021-03-06T15:35:17.410940Z",
     "iopub.status.idle": "2021-03-06T15:35:17.412089Z",
     "shell.execute_reply": "2021-03-06T15:35:17.412408Z"
    },
    "slideshow": {
     "slide_type": "fragment"
    }
   },
   "outputs": [
    {
     "name": "stdout",
     "output_type": "stream",
     "text": [
      "I can also add leading zeros 0003.16\n"
     ]
    }
   ],
   "source": [
    "print(f\"I can also add leading zeros {n:07.2f}\") \n",
    "# 07 fills with leading zeros until there are 7 digits in total"
   ]
  }
 ],
 "metadata": {
  "anaconda-cloud": {},
  "celltoolbar": "Slideshow",
  "kernelspec": {
   "display_name": "Python 3",
   "language": "python",
   "name": "python3"
  },
  "language_info": {
   "codemirror_mode": {
    "name": "ipython",
    "version": 3
   },
   "file_extension": ".py",
   "mimetype": "text/x-python",
   "name": "python",
   "nbconvert_exporter": "python",
   "pygments_lexer": "ipython3",
   "version": "3.8.5"
  }
 },
 "nbformat": 4,
 "nbformat_minor": 4
}
