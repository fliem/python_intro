{
 "cells": [
  {
   "cell_type": "markdown",
   "metadata": {
    "slideshow": {
     "slide_type": "slide"
    }
   },
   "source": [
    "# Debugging in VS Code"
   ]
  },
  {
   "cell_type": "markdown",
   "metadata": {},
   "source": [
    "# Debugging\n",
    "* Stepping through code and inspecting states\n",
    "* Great way to find out why something does not work\n",
    "* Great way to develop code"
   ]
  },
  {
   "cell_type": "markdown",
   "metadata": {
    "slideshow": {
     "slide_type": "subslide"
    }
   },
   "source": [
    "Create a new python script in VS code with the following code"
   ]
  },
  {
   "cell_type": "code",
   "execution_count": 1,
   "metadata": {},
   "outputs": [
    {
     "name": "stdout",
     "output_type": "stream",
     "text": [
      "Mhh, apples is 3!\n",
      "Mhh, oranges is 3!\n",
      "Mhh, limes is 3!\n",
      "Done\n"
     ]
    }
   ],
   "source": [
    "a = 1\n",
    "b = 33\n",
    "c = a + b\n",
    "fruits = [\"apples\", \"oranges\", \"limes\"]\n",
    "for fruit in fruits:   \n",
    "    l = len(fruits)\n",
    "    print(f\"Mhh, {fruit} is {l}!\")\n",
    "print(\"Done\")"
   ]
  },
  {
   "cell_type": "markdown",
   "metadata": {
    "slideshow": {
     "slide_type": "subslide"
    }
   },
   "source": [
    "### Set a breakpoint\n",
    "<img src=\"images/breakpoint.png\">"
   ]
  },
  {
   "cell_type": "markdown",
   "metadata": {},
   "source": [
    "### Run script\n",
    "\n",
    "### Step over code\n",
    "<img src=\"images/debug_contr.png\">\n",
    "\n",
    "### Inspect variables\n",
    "\n",
    "### Interact with the *Debug Console*"
   ]
  },
  {
   "cell_type": "markdown",
   "metadata": {
    "slideshow": {
     "slide_type": "subslide"
    }
   },
   "source": [
    "# Debug early\n",
    "\n",
    "# Debug often\n",
    "\n",
    "# Scripts are easier to debug than notebooks"
   ]
  }
 ],
 "metadata": {
  "kernelspec": {
   "display_name": "Python 3",
   "language": "python",
   "name": "python3"
  },
  "language_info": {
   "codemirror_mode": {
    "name": "ipython",
    "version": 3
   },
   "file_extension": ".py",
   "mimetype": "text/x-python",
   "name": "python",
   "nbconvert_exporter": "python",
   "pygments_lexer": "ipython3",
   "version": "3.8.3"
  }
 },
 "nbformat": 4,
 "nbformat_minor": 4
}
