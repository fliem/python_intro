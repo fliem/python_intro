{
 "cells": [
  {
   "cell_type": "markdown",
   "metadata": {
    "slideshow": {
     "slide_type": "slide"
    }
   },
   "source": [
    "# The Plan - Play\n",
    "\n",
    "**Individually or in groups**:\n",
    "* Find a Python tutorial (online or from my suggestions)\n",
    "* Walk through it; try to play and understand it\n",
    "\n",
    "or\n",
    "\n",
    "* Define your problem\n",
    "* Make a plan how to tackle it\n",
    "* Maybe create toy data\n",
    "* Implement the plan\n",
    "\n",
    "\n",
    "**I'll be here to help**\n"
   ]
  },
  {
   "cell_type": "markdown",
   "metadata": {
    "slideshow": {
     "slide_type": "subslide"
    }
   },
   "source": [
    "# Tutorials\n",
    "* Basic Python: [A Whirlwind Tour of Python](https://github.com/jakevdp/WhirlwindTourOfPython)\n",
    "* More advanced data science in python: [Python Data Science Handbook](https://github.com/jakevdp/PythonDataScienceHandbook)\n",
    "* [Lectures on scientific computing with Python](https://github.com/jrjohansson/scientific-python-lectures)\n",
    "* [A gallery of interesting Jupyter Notebooks](https://github.com/jupyter/jupyter/wiki/A-gallery-of-interesting-Jupyter-Notebooks)\n",
    "* Neuro-Machine-Learning with [Nilearn](https://github.com/mrahim/nilearn_tutorials)\n",
    "* Non-Neuro-Machine-Learning with [scikit-learn](http://scikit-learn.org/stable/auto_examples/index.html)\n",
    "* Plotting brain surfaces with [pysurfer](http://pysurfer.github.io/auto_examples/index.html)\n",
    "* [Pandas](https://pandas.pydata.org/pandas-docs/stable/tutorials.html)\n",
    "* Plotting with [Seaborn](https://seaborn.pydata.org/examples/index.html) or [Altair](https://altair-viz.github.io)\n",
    "* Neuroimaging pipeline with [Nipype](https://miykael.github.io/nipype_tutorial/)"
   ]
  },
  {
   "cell_type": "markdown",
   "metadata": {
    "slideshow": {
     "slide_type": "subslide"
    }
   },
   "source": [
    "# `PsychoPy`\n",
    "Install [PsychoPy](https://www.psychopy.org/download.html) and take a look at their examples"
   ]
  },
  {
   "cell_type": "markdown",
   "metadata": {
    "slideshow": {
     "slide_type": "subslide"
    }
   },
   "source": [
    "# Taking dataframes further\n",
    "\n",
    "## Cleaning data with `pyjanitor`\n",
    "If you are inteding to work with dataframes, cleaning your dataframes with [`pyjanitor`](https://ericmjl.github.io/pyjanitor/) might be intersting\n",
    "\n",
    "## Statistical Data Validation for Pandas with `pandera`\n",
    "Check that your values make sense with [`pandera`](https://pandera.readthedocs.io/en/stable/)\n",
    "\n",
    "## Generate reports `pandas-profiling`\n",
    "Generate profile reports from a dataframe with [`pandas-profiling`](https://pandas-profiling.github.io/pandas-profiling/docs/master/rtd/) "
   ]
  },
  {
   "cell_type": "markdown",
   "metadata": {
    "slideshow": {
     "slide_type": "subslide"
    }
   },
   "source": [
    "# `MNE`\n",
    "\n",
    "Take a look at MNE's [install guide](https://mne.tools/stable/install/mne_python.html) and install mne in a separate conda env\n",
    "\n",
    "\n",
    "```bash\n",
    "conda install --name base nb_conda_kernels\n",
    "curl --remote-name https://raw.githubusercontent.com/mne-tools/mne-python/master/environment.yml\n",
    "conda env create -n mne -f environment.yml \n",
    "conda activate mne\n",
    "```\n",
    "\n",
    "\n",
    "Then take a look at one of their examples, for instance [Find ECG artifacts](https://mne.tools/stable/auto_examples/preprocessing/plot_find_ecg_artifacts.html#sphx-glr-auto-examples-preprocessing-plot-find-ecg-artifacts-py)\n"
   ]
  }
 ],
 "metadata": {
  "anaconda-cloud": {},
  "celltoolbar": "Slideshow",
  "kernelspec": {
   "display_name": "Python 3",
   "language": "python",
   "name": "python3"
  },
  "language_info": {
   "codemirror_mode": {
    "name": "ipython",
    "version": 3
   },
   "file_extension": ".py",
   "mimetype": "text/x-python",
   "name": "python",
   "nbconvert_exporter": "python",
   "pygments_lexer": "ipython3",
   "version": "3.8.5"
  }
 },
 "nbformat": 4,
 "nbformat_minor": 4
}
