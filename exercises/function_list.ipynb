{
 "cells": [
  {
   "cell_type": "markdown",
   "metadata": {},
   "source": [
    "# Calling a function for each element of a list\n",
    "\n",
    "Create a function that takes a string as input and removes '.' and ';' from the string and returns the cleaned string. \n",
    "For instance, `a;b.` should be cleaned to `ab`.\n",
    "\n",
    "Use the function to clean up the following list:\n",
    "`[\"a. haha\", \";.b\", \"\", \"muh\"]`"
   ]
  }
 ],
 "metadata": {
  "kernelspec": {
   "display_name": "Python 3",
   "language": "python",
   "name": "python3"
  },
  "language_info": {
   "codemirror_mode": {
    "name": "ipython",
    "version": 3
   },
   "file_extension": ".py",
   "mimetype": "text/x-python",
   "name": "python",
   "nbconvert_exporter": "python",
   "pygments_lexer": "ipython3",
   "version": "3.8.3"
  }
 },
 "nbformat": 4,
 "nbformat_minor": 4
}
