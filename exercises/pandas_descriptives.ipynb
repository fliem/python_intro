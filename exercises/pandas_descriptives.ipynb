{
 "cells": [
  {
   "cell_type": "markdown",
   "metadata": {},
   "source": [
    "# Pandas descriptives\n",
    "\n",
    "The file `data/pheno/pheno.csv` is a table of subjects with the columns `subject,sex,age,score`\n",
    "\n",
    "* Print a couple of descriptive or inferential stats, scatter plots...\n",
    "* Deal with the missing values in `data/pheno/pheno_missing.csv`"
   ]
  }
 ],
 "metadata": {
  "kernelspec": {
   "display_name": "Python 3",
   "language": "python",
   "name": "python3"
  },
  "language_info": {
   "codemirror_mode": {
    "name": "ipython",
    "version": 3
   },
   "file_extension": ".py",
   "mimetype": "text/x-python",
   "name": "python",
   "nbconvert_exporter": "python",
   "pygments_lexer": "ipython3",
   "version": "3.8.5"
  }
 },
 "nbformat": 4,
 "nbformat_minor": 4
}
