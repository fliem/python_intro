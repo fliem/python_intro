{
 "cells": [
  {
   "cell_type": "markdown",
   "metadata": {},
   "source": [
    "# Exercise: do you like this author?\n",
    "\n",
    "1. Create a variable that contains information about four authors.\n",
    "    * It should have keys and values.\n",
    "    * The keys are author names: each key is associated with a boolean value (`True` or `False`, indicating whether you like the author or not)\n",
    "1. Loop through your authors and print for each of those whether you like them or not.\n",
    "    * E.g., 'Do you like Jonathan Franzen? Yes!'\n",
    "\n",
    "Hint: google is your friend"
   ]
  }
 ],
 "metadata": {
  "kernelspec": {
   "display_name": "Python 3",
   "language": "python",
   "name": "python3"
  },
  "language_info": {
   "codemirror_mode": {
    "name": "ipython",
    "version": 3
   },
   "file_extension": ".py",
   "mimetype": "text/x-python",
   "name": "python",
   "nbconvert_exporter": "python",
   "pygments_lexer": "ipython3",
   "version": "3.8.3"
  }
 },
 "nbformat": 4,
 "nbformat_minor": 4
}
