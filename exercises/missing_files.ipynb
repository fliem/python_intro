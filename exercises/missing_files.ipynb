{
 "cells": [
  {
   "cell_type": "markdown",
   "metadata": {},
   "source": [
    "# Exercise: Check for missing files\n",
    "\n",
    "The folder `data/missing_files` contains subject folders. They contain a file `data.txt`.\n",
    "\n",
    "E.g.: `data/missing_files/s01/data.txt`\n",
    "\n",
    "For some subjects the `data.txt` file is missing."
   ]
  },
  {
   "cell_type": "markdown",
   "metadata": {},
   "source": [
    "```\n",
    "data/\n",
    "├── missing_files\n",
    "│   ├── gen_data.ipynb\n",
    "│   ├── s01\n",
    "│   │   └── data.txt\n",
    "│   ├── s02\n",
    "│   │   └── data.txt\n",
    "│   ├── s03\n",
    "│   │   └── data2.txt\n",
    "\n",
    "...\n",
    "```\n"
   ]
  },
  {
   "cell_type": "markdown",
   "metadata": {
    "slideshow": {
     "slide_type": "subslide"
    }
   },
   "source": [
    "# Exercise: Check for missing files\n",
    "\n",
    "**Separately print all subjects that have this file / don't have this file.**\n",
    "\n",
    "Start by assembling a roadmap, beaking down the problem into a list of tasks needed to get there (e.g, # comments that can later be complemented with code)"
   ]
  }
 ],
 "metadata": {
  "anaconda-cloud": {},
  "kernel_info": {
   "name": "python3"
  },
  "kernelspec": {
   "display_name": "Python 3",
   "language": "python",
   "name": "python3"
  },
  "language_info": {
   "codemirror_mode": {
    "name": "ipython",
    "version": 3
   },
   "file_extension": ".py",
   "mimetype": "text/x-python",
   "name": "python",
   "nbconvert_exporter": "python",
   "pygments_lexer": "ipython3",
   "version": "3.8.5"
  }
 },
 "nbformat": 4,
 "nbformat_minor": 4
}
