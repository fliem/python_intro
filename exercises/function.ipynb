{
 "cells": [
  {
   "cell_type": "markdown",
   "metadata": {},
   "source": [
    "# Functions\n",
    "\n",
    "Create a function that takes a string as input and removes '.' and ';' from the string and returns the cleaned string. \n",
    "For instance, `a;b.` should be cleaned to `ab`.\n",
    "\n",
    "Once you have created the function, extend the function so that you can specify (when calling the function) which strings you would like to remove. If you don't specify anything to be removed, '.' and ';' should still be removed.\n"
   ]
  }
 ],
 "metadata": {
  "kernelspec": {
   "display_name": "Python 3",
   "language": "python",
   "name": "python3"
  },
  "language_info": {
   "codemirror_mode": {
    "name": "ipython",
    "version": 3
   },
   "file_extension": ".py",
   "mimetype": "text/x-python",
   "name": "python",
   "nbconvert_exporter": "python",
   "pygments_lexer": "ipython3",
   "version": "3.8.5"
  }
 },
 "nbformat": 4,
 "nbformat_minor": 4
}
