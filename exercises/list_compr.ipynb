{
 "cells": [
  {
   "cell_type": "markdown",
   "metadata": {},
   "source": [
    "# List comprehension\n",
    "\n",
    "Use a list comprehension expression to create a list with the subject ids only (e.g., \"s01\") from the following list (you can start with a normal `for` loop and adapt it to a list comprehension, if that helps you):"
   ]
  },
  {
   "cell_type": "code",
   "execution_count": 1,
   "metadata": {},
   "outputs": [
    {
     "name": "stdout",
     "output_type": "stream",
     "text": [
      "[PosixPath('data/missing_files/s01'), PosixPath('data/missing_files/s02')]\n"
     ]
    }
   ],
   "source": [
    "from pathlib import Path\n",
    "root_dir = Path(\"data/missing_files\")\n",
    "subject_dirs = sorted(root_dir.glob(\"s*\"))\n",
    "print(subject_dirs[:2])"
   ]
  }
 ],
 "metadata": {
  "kernelspec": {
   "display_name": "Python 3",
   "language": "python",
   "name": "python3"
  },
  "language_info": {
   "codemirror_mode": {
    "name": "ipython",
    "version": 3
   },
   "file_extension": ".py",
   "mimetype": "text/x-python",
   "name": "python",
   "nbconvert_exporter": "python",
   "pygments_lexer": "ipython3",
   "version": "3.8.3"
  }
 },
 "nbformat": 4,
 "nbformat_minor": 4
}
