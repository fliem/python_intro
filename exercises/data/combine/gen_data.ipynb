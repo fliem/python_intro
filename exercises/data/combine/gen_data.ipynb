{
 "cells": [
  {
   "cell_type": "code",
   "execution_count": 1,
   "metadata": {},
   "outputs": [],
   "source": [
    "import pandas as pd\n",
    "import numpy as np"
   ]
  },
  {
   "cell_type": "code",
   "execution_count": 2,
   "metadata": {},
   "outputs": [],
   "source": [
    "sub = [\"sub\" + str(i) for i in range(100)]\n",
    "sex = [\"F\", \"M\"] * 50\n",
    "age = np.random.randint(18, 90, 100)\n",
    "r = np.random.randint(0, 10, 100)"
   ]
  },
  {
   "cell_type": "code",
   "execution_count": 3,
   "metadata": {},
   "outputs": [],
   "source": [
    "df = pd.DataFrame({\"subject\":sub, \"sex\":sex, \"age\":age, \"r\":r})\n",
    "df[\"sex_dummy\"] = df.sex\n",
    "df = df.replace({\"sex_dummy\":{\"F\":0, \"M\":1}})\n",
    "\n",
    "df[\"score\"] = df.age + df.sex_dummy + df.r\n",
    "df = df[['subject', 'sex', 'age', 'score']]\n",
    "df.to_csv(\"pheno.csv\", index=False)"
   ]
  },
  {
   "cell_type": "code",
   "execution_count": 4,
   "metadata": {},
   "outputs": [],
   "source": [
    "df.loc[[55, 66, 88], \"age\"] = np.nan\n",
    "df.loc[[22, 44, 77], \"sex\"] = np.nan"
   ]
  },
  {
   "cell_type": "code",
   "execution_count": 8,
   "metadata": {},
   "outputs": [],
   "source": [
    "df.iloc[:15].to_csv(\"data_batch1.txt\", index=False)\n",
    "df.iloc[15:55].to_csv(\"data_batch2.txt\", index=False)\n",
    "df.iloc[55:].to_csv(\"data_batch3.txt\", index=False)"
   ]
  },
  {
   "cell_type": "code",
   "execution_count": null,
   "metadata": {},
   "outputs": [],
   "source": []
  }
 ],
 "metadata": {
  "anaconda-cloud": {},
  "kernelspec": {
   "display_name": "Python [default]",
   "language": "python",
   "name": "python3"
  },
  "language_info": {
   "codemirror_mode": {
    "name": "ipython",
    "version": 3
   },
   "file_extension": ".py",
   "mimetype": "text/x-python",
   "name": "python",
   "nbconvert_exporter": "python",
   "pygments_lexer": "ipython3",
   "version": "3.5.2"
  }
 },
 "nbformat": 4,
 "nbformat_minor": 2
}
