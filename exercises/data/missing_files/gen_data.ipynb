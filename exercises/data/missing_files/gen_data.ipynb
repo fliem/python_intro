{
 "cells": [
  {
   "cell_type": "code",
   "execution_count": 1,
   "metadata": {},
   "outputs": [],
   "source": [
    "from pathlib import Path\n",
    "root_path = Path(\".\")"
   ]
  },
  {
   "cell_type": "code",
   "execution_count": 2,
   "metadata": {},
   "outputs": [],
   "source": [
    "l = list(range(1, 51))\n",
    "missing = [3,7,11,14,19,26,33,48]\n",
    "l = list(set(l)-set(missing))"
   ]
  },
  {
   "cell_type": "code",
   "execution_count": 3,
   "metadata": {},
   "outputs": [],
   "source": [
    "for s in l[:30]:\n",
    "    file = root_path / f\"s{s:02n}\" / \"data.txt\"\n",
    "    file.parent.mkdir(exist_ok=True)\n",
    "    file.write_text(\"ok\")\n",
    "\n",
    "for s in l[30:]:\n",
    "    file = root_path / f\"s{s:02n}\" / \"data.txt\"\n",
    "    file.parent.mkdir(exist_ok=True)\n",
    "    file.write_text(\"failed\")\n",
    "    \n",
    "for s in missing:\n",
    "    file = root_path / f\"s{s:02n}\" / \"data2.txt\"\n",
    "    file.parent.mkdir(exist_ok=True)\n",
    "    file.write_text(\"failed\")"
   ]
  }
 ],
 "metadata": {
  "kernelspec": {
   "display_name": "Python 3",
   "language": "python",
   "name": "python3"
  },
  "language_info": {
   "codemirror_mode": {
    "name": "ipython",
    "version": 3
   },
   "file_extension": ".py",
   "mimetype": "text/x-python",
   "name": "python",
   "nbconvert_exporter": "python",
   "pygments_lexer": "ipython3",
   "version": "3.8.3"
  }
 },
 "nbformat": 4,
 "nbformat_minor": 4
}
