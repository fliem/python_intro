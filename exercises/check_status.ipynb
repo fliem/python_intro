{
 "cells": [
  {
   "cell_type": "markdown",
   "metadata": {},
   "source": [
    "# Exercise: Check logfiles\n",
    "\n",
    "The folder `data/missing_files` contains subject folders. They contain a file `data.txt`.\n",
    "\n",
    "E.g.: `data/missing_files/s01/data.txt`\n",
    "\n",
    "We pretend that the files hold the results of some process, either \"ok\" or \"failed\".\n",
    "\n",
    "**Separately print all subjects that are ok / failed** \n",
    "\n",
    "Start by assembling a roadmap, beaking down the problem into a list of tasks needed to get there (e.g, # comments that can later be complemented with code)"
   ]
  },
  {
   "cell_type": "markdown",
   "metadata": {},
   "source": []
  }
 ],
 "metadata": {
  "anaconda-cloud": {},
  "kernel_info": {
   "name": "python3"
  },
  "kernelspec": {
   "display_name": "Python 3",
   "language": "python",
   "name": "python3"
  },
  "language_info": {
   "codemirror_mode": {
    "name": "ipython",
    "version": 3
   },
   "file_extension": ".py",
   "mimetype": "text/x-python",
   "name": "python",
   "nbconvert_exporter": "python",
   "pygments_lexer": "ipython3",
   "version": "3.8.3"
  }
 },
 "nbformat": 4,
 "nbformat_minor": 4
}
